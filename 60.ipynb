{
  "nbformat": 4,
  "nbformat_minor": 0,
  "metadata": {
    "colab": {
      "provenance": [],
      "gpuType": "T4",
      "collapsed_sections": [
        "dlv6knX04FiY",
        "wJo2kNVW8PFT",
        "d-RH5YRYFz15",
        "_U7BIR7nCyWq"
      ]
    },
    "kernelspec": {
      "name": "python3",
      "display_name": "Python 3"
    },
    "language_info": {
      "name": "python"
    },
    "accelerator": "GPU"
  },
  "cells": [
    {
      "cell_type": "markdown",
      "source": [
        "# Introduction\n",
        "Andrew Jeffers, Haesung Jeong <br>\n",
        "GitHub Repo Link: https://github.com/ajeffers999/CS598-Project\n",
        "\n",
        "Project Video Link: https://drive.google.com/file/d/1q8SYeYhuX0JAGkiHEd1dMHqpRALThh7_/view?usp=drive_link\n",
        "\n",
        "The paper explores an approach to determine how a patient's family members' medical history influences their disease risk. This is a meaningful problem because it could help inform patients about their risk for certain diseases based on relative and family information. Utlizing family medical history for predicting a patient's disease risk is also complicated by a variety of genetic, environmental, and lifestyle factors.\n",
        "\n",
        "This paper proposes a novel solution to this problem by utilizing a graph-based deep learning approach for learning representations of family member's influence on patient's disease risk. A graph based approach is a more useful and natural way of modeling the connections between family members than previous methods.\n",
        "\n",
        "Previous works have also recognized that it is useful to include information from family members when predicting the risk of disease. However, machine learning approaches using tabular data do not model the underlying geometric structure of family history. Using a graph based approach, this structure is much more easily obtained and modeled.\n",
        "\n",
        "The main contributions of the paper are:\n",
        "  * a scalable, disease-agnostic machine learning tool making use of GNNs and LSTMs which learn representations of a patient's disease risk from family member's medical information.\n",
        "  * Data which shows graph-based approaches perform better than clinically-inspired or deep learning baselines used previously.\n",
        "  * Graph explanability techniques demonstrate that GNN-LSTM embeddings identify medical features which are more suitable for predicting disease risk than features identifies by an epidemiological baseline.\n",
        "\n",
        "The researchers observed that graph-based models consistently outperformed the baseline approaches, although the best performing model between GNN and GNN-LSTM varied depending on the disease in question. Cancers typically performed better on the GNN model, which the researchers believe is due to cancers generally being less hereditary than other diseases."
      ],
      "metadata": {
        "id": "MQ0sNuMePBXx"
      }
    },
    {
      "cell_type": "markdown",
      "source": [
        "# Mount Notebook to Google Drive\n",
        "Upload the data, pretrianed model, figures, etc to your Google Drive, then mount this notebook to Google Drive. After that, you can access the resources freely."
      ],
      "metadata": {
        "id": "dlv6knX04FiY"
      }
    },
    {
      "cell_type": "code",
      "source": [
        "from google.colab import drive\n",
        "drive.mount('/content/drive')"
      ],
      "metadata": {
        "id": "sfk8Zrul_E8V",
        "colab": {
          "base_uri": "https://localhost:8080/"
        },
        "outputId": "c3c4934c-9c33-4de0-989d-28bf96e4c4eb"
      },
      "execution_count": null,
      "outputs": [
        {
          "output_type": "stream",
          "name": "stdout",
          "text": [
            "Mounted at /content/drive\n"
          ]
        }
      ]
    },
    {
      "cell_type": "markdown",
      "source": [
        "# Scope of Reproducibility:\n",
        "\n",
        "List hypotheses from the paper you will test and the corresponding experiments you will run.\n",
        "\n",
        "\n",
        "1.   Hypothesis 1: Graph-based approaches predict disease risk better than the baseline model.\n",
        "2.   Hypothesis 2: The GNN model using GraphConv layers predicts disease risk better than the GNN model using GCN layers.\n"
      ],
      "metadata": {
        "id": "uygL9tTPSVHB"
      }
    },
    {
      "cell_type": "markdown",
      "source": [
        "# Methodology\n",
        "\n",
        "This methodology is the core of your project. It consists of run-able codes with necessary annotations to show the experiment you executed for testing the hypotheses.\n",
        "\n",
        "The methodology at least contains two subsections **data** and **model** in your experiment."
      ],
      "metadata": {
        "id": "xWAHJ_1CdtaA"
      }
    },
    {
      "cell_type": "markdown",
      "source": [
        "# Python Version\n",
        "Python 3.10.12"
      ],
      "metadata": {
        "id": "wJo2kNVW8PFT"
      }
    },
    {
      "cell_type": "code",
      "source": [
        "!python --version"
      ],
      "metadata": {
        "colab": {
          "base_uri": "https://localhost:8080/"
        },
        "id": "fDDTh4y97t9u",
        "outputId": "bcd5117e-982d-4c99-9c35-cc7b49a28071"
      },
      "execution_count": null,
      "outputs": [
        {
          "output_type": "stream",
          "name": "stdout",
          "text": [
            "Python 3.10.12\n"
          ]
        }
      ]
    },
    {
      "cell_type": "markdown",
      "source": [
        "# Libraries\n",
        "Below are the Python libraries used to implement graph representation learning for familial relationships."
      ],
      "metadata": {
        "id": "d-RH5YRYFz15"
      }
    },
    {
      "cell_type": "code",
      "source": [
        "!pip install torch_geometric"
      ],
      "metadata": {
        "id": "T-g_tC3W_7M4",
        "colab": {
          "base_uri": "https://localhost:8080/"
        },
        "outputId": "e5c633c0-07e6-4a4b-88c3-5a4e40568b60"
      },
      "execution_count": null,
      "outputs": [
        {
          "output_type": "stream",
          "name": "stdout",
          "text": [
            "Collecting torch_geometric\n",
            "  Downloading torch_geometric-2.5.3-py3-none-any.whl (1.1 MB)\n",
            "\u001b[2K     \u001b[90m━━━━━━━━━━━━━━━━━━━━━━━━━━━━━━━━━━━━━━━━\u001b[0m \u001b[32m1.1/1.1 MB\u001b[0m \u001b[31m5.3 MB/s\u001b[0m eta \u001b[36m0:00:00\u001b[0m\n",
            "\u001b[?25hRequirement already satisfied: tqdm in /usr/local/lib/python3.10/dist-packages (from torch_geometric) (4.66.2)\n",
            "Requirement already satisfied: numpy in /usr/local/lib/python3.10/dist-packages (from torch_geometric) (1.25.2)\n",
            "Requirement already satisfied: scipy in /usr/local/lib/python3.10/dist-packages (from torch_geometric) (1.11.4)\n",
            "Requirement already satisfied: fsspec in /usr/local/lib/python3.10/dist-packages (from torch_geometric) (2023.6.0)\n",
            "Requirement already satisfied: jinja2 in /usr/local/lib/python3.10/dist-packages (from torch_geometric) (3.1.3)\n",
            "Requirement already satisfied: aiohttp in /usr/local/lib/python3.10/dist-packages (from torch_geometric) (3.9.5)\n",
            "Requirement already satisfied: requests in /usr/local/lib/python3.10/dist-packages (from torch_geometric) (2.31.0)\n",
            "Requirement already satisfied: pyparsing in /usr/local/lib/python3.10/dist-packages (from torch_geometric) (3.1.2)\n",
            "Requirement already satisfied: scikit-learn in /usr/local/lib/python3.10/dist-packages (from torch_geometric) (1.2.2)\n",
            "Requirement already satisfied: psutil>=5.8.0 in /usr/local/lib/python3.10/dist-packages (from torch_geometric) (5.9.5)\n",
            "Requirement already satisfied: aiosignal>=1.1.2 in /usr/local/lib/python3.10/dist-packages (from aiohttp->torch_geometric) (1.3.1)\n",
            "Requirement already satisfied: attrs>=17.3.0 in /usr/local/lib/python3.10/dist-packages (from aiohttp->torch_geometric) (23.2.0)\n",
            "Requirement already satisfied: frozenlist>=1.1.1 in /usr/local/lib/python3.10/dist-packages (from aiohttp->torch_geometric) (1.4.1)\n",
            "Requirement already satisfied: multidict<7.0,>=4.5 in /usr/local/lib/python3.10/dist-packages (from aiohttp->torch_geometric) (6.0.5)\n",
            "Requirement already satisfied: yarl<2.0,>=1.0 in /usr/local/lib/python3.10/dist-packages (from aiohttp->torch_geometric) (1.9.4)\n",
            "Requirement already satisfied: async-timeout<5.0,>=4.0 in /usr/local/lib/python3.10/dist-packages (from aiohttp->torch_geometric) (4.0.3)\n",
            "Requirement already satisfied: MarkupSafe>=2.0 in /usr/local/lib/python3.10/dist-packages (from jinja2->torch_geometric) (2.1.5)\n",
            "Requirement already satisfied: charset-normalizer<4,>=2 in /usr/local/lib/python3.10/dist-packages (from requests->torch_geometric) (3.3.2)\n",
            "Requirement already satisfied: idna<4,>=2.5 in /usr/local/lib/python3.10/dist-packages (from requests->torch_geometric) (3.7)\n",
            "Requirement already satisfied: urllib3<3,>=1.21.1 in /usr/local/lib/python3.10/dist-packages (from requests->torch_geometric) (2.0.7)\n",
            "Requirement already satisfied: certifi>=2017.4.17 in /usr/local/lib/python3.10/dist-packages (from requests->torch_geometric) (2024.2.2)\n",
            "Requirement already satisfied: joblib>=1.1.1 in /usr/local/lib/python3.10/dist-packages (from scikit-learn->torch_geometric) (1.4.0)\n",
            "Requirement already satisfied: threadpoolctl>=2.0.0 in /usr/local/lib/python3.10/dist-packages (from scikit-learn->torch_geometric) (3.4.0)\n",
            "Installing collected packages: torch_geometric\n",
            "Successfully installed torch_geometric-2.5.3\n"
          ]
        }
      ]
    },
    {
      "cell_type": "code",
      "source": [
        "# import  packages you need\n",
        "import torch\n",
        "import torch_geometric\n",
        "import sqlite3\n",
        "import pandas as pd\n",
        "import numpy as np\n",
        "from torch.utils.data import Dataset\n",
        "from torch_geometric.loader import DataLoader\n",
        "from torch_geometric.data import Dataset as GraphDataset\n",
        "from torch_geometric.data import Batch\n",
        "import torch_geometric.nn as gnn\n",
        "import torch.nn as nn\n",
        "import torch.nn.functional as F\n",
        "from sklearn import metrics\n",
        "from tqdm import tqdm\n",
        "from random import choices\n",
        "import matplotlib.pyplot as plt\n",
        "import time\n",
        "import gdown\n",
        "\n",
        "from google.colab import drive\n"
      ],
      "metadata": {
        "id": "yu61Jp1xrnKk"
      },
      "execution_count": null,
      "outputs": []
    },
    {
      "cell_type": "markdown",
      "source": [
        "\n",
        "## Data\n",
        "### Data Download Instruction\n",
        "The data for this project was obtained from https://github.com/dsgelab/family-EHR-graphs, as provided by the authors of the referenced paper. For our models, we only required specifiic files: the maskfile, featfile, adn edgefile. Consequently, we uploaded these files to our Goolge Drive. To facilitate access within this notebook, we employed the gdown library to download them directly.\n",
        "\n",
        "\n"
      ],
      "metadata": {
        "id": "2NbPHUTMbkD3"
      }
    },
    {
      "cell_type": "code",
      "source": [
        "# Download files from Drive\n",
        "raw_data_dir = '/content/'\n",
        "gdown.download('https://drive.google.com/uc?id=1sRg8ACp8U7XvUoD8ftCI_e28efNjt1CA')\n",
        "gdown.download('https://drive.google.com/uc?id=1MYIKBFS7SqaIGqx4XSKSPU2sBXhMnCLX')\n",
        "gdown.download('https://drive.google.com/uc?id=1SU48XpEa90uutZv4vxZhJOWok_5tHMCI')\n",
        "gdown.download('https://drive.google.com/uc?id=1p791BOVkPQtrettUMbC4nmYiACUFoHWy')\n",
        "gdown.download('https://drive.google.com/uc?id=1oaDUoXpI3Rnhq2bdrsJT7eN6Pd7Yz0zN')\n",
        "gdown.download('https://drive.google.com/uc?id=1kObsbqjlosFkqkvWcBJeiiFNFs6pnbL2')"
      ],
      "metadata": {
        "colab": {
          "base_uri": "https://localhost:8080/",
          "height": 451
        },
        "id": "CX0Zy0zG1QNK",
        "outputId": "81f2ae0a-c248-4b5b-fbbd-400049cfd337"
      },
      "execution_count": null,
      "outputs": [
        {
          "output_type": "stream",
          "name": "stderr",
          "text": [
            "Downloading...\n",
            "From: https://drive.google.com/uc?id=1sRg8ACp8U7XvUoD8ftCI_e28efNjt1CA\n",
            "To: /content/Gen3_50k_0.7_142857_statfile.csv\n",
            "100%|██████████| 23.8M/23.8M [00:00<00:00, 38.7MB/s]\n",
            "Downloading...\n",
            "From: https://drive.google.com/uc?id=1MYIKBFS7SqaIGqx4XSKSPU2sBXhMnCLX\n",
            "To: /content/Gen3_50k_0.7_142857_maskfile.csv\n",
            "100%|██████████| 3.00M/3.00M [00:00<00:00, 23.6MB/s]\n",
            "Downloading...\n",
            "From: https://drive.google.com/uc?id=1SU48XpEa90uutZv4vxZhJOWok_5tHMCI\n",
            "To: /content/Gen3_50k_0.7_142857_edgefile.csv\n",
            "100%|██████████| 74.2M/74.2M [00:00<00:00, 121MB/s]\n",
            "Downloading...\n",
            "From: https://drive.google.com/uc?id=1p791BOVkPQtrettUMbC4nmYiACUFoHWy\n",
            "To: /content/featfile_A2.csv\n",
            "100%|██████████| 380/380 [00:00<00:00, 1.19MB/s]\n",
            "Downloading...\n",
            "From: https://drive.google.com/uc?id=1oaDUoXpI3Rnhq2bdrsJT7eN6Pd7Yz0zN\n",
            "To: /content/featfile_A1.csv\n",
            "100%|██████████| 56.0/56.0 [00:00<00:00, 144kB/s]\n",
            "Downloading...\n",
            "From: https://drive.google.com/uc?id=1kObsbqjlosFkqkvWcBJeiiFNFs6pnbL2\n",
            "To: /content/featfile_G1.csv\n",
            "100%|██████████| 229/229 [00:00<00:00, 648kB/s]\n"
          ]
        },
        {
          "output_type": "execute_result",
          "data": {
            "text/plain": [
              "'featfile_G1.csv'"
            ],
            "application/vnd.google.colaboratory.intrinsic+json": {
              "type": "string"
            }
          },
          "metadata": {},
          "execution_count": 5
        }
      ]
    },
    {
      "cell_type": "code",
      "source": [
        "class DataFetch():\n",
        "    \"\"\"\n",
        "    Class for fetching and formatting data\n",
        "\n",
        "    Expects a tensor list of patients encoded using the numerical node_ids\n",
        "\n",
        "    Assumes maskfile, statfile rows are indexed in order of these node_ids (0, 1, ... num_samples)\n",
        "    and they include data for both the target and graph samples (retrieve data using .iloc)\n",
        "\n",
        "    The edgefile only needs to include data for the target samples, and is indexed\n",
        "    using the node_ids (retrieve data using .loc)\n",
        "\n",
        "    Note that the featfile has exactly one label, corresponding to the label column name in the statfile\n",
        "\n",
        "    Note if the input is a directed graph the code converts it to an undirected graph\n",
        "\n",
        "    Parameters:\n",
        "    maskfile, featfile, statfile and edgefile are filepaths to csv files\n",
        "    sqlpath is the path to the sql database\n",
        "    params is a dictionary of additional parameters (obs_window_start, obs_window_end)\n",
        "    \"\"\"\n",
        "    def __init__(self, model_type, gnn_layer, featfile, alt_featfile=None, local=False):\n",
        "        feat_df = pd.read_csv(raw_data_dir + featfile)\n",
        "        statfile = pd.read_csv(raw_data_dir + 'Gen3_50k_0.7_142857_statfile.csv')\n",
        "\n",
        "        self.local = local\n",
        "        self.static_features = feat_df[feat_df['type']=='static']['name'].tolist()\n",
        "        self.longitudinal_features = feat_df[feat_df['type']=='longitudinal']['name'].tolist()\n",
        "        self.edge_features = feat_df[feat_df['type']=='edge']['name'].tolist()\n",
        "        # some gnn layers only support a single edge weight\n",
        "        if gnn_layer in ['gcn', 'graphconv']: self.edge_features=['weight']\n",
        "        self.label_key = feat_df[feat_df['type']=='label']['name'].tolist()[0]\n",
        "        self.static_data = torch.tensor(statfile[self.static_features].values, dtype=torch.float)\n",
        "        self.label_data = torch.tensor(statfile[self.label_key].to_numpy(), dtype=torch.float32)\n",
        "\n",
        "        if model_type in ['graph', 'graph_no_target', 'explainability']:\n",
        "            # can specify a different feature set using alt_featfile\n",
        "            alt_feat_df = pd.read_csv(raw_data_dir + alt_featfile)\n",
        "            self.alt_static_features = alt_feat_df[alt_feat_df['type']=='static']['name'].tolist()\n",
        "            self.alt_static_data = torch.tensor(statfile[self.alt_static_features].values, dtype=torch.float)\n",
        "\n",
        "        mask_df = pd.read_csv(raw_data_dir + 'Gen3_50k_0.7_142857_maskfile.csv')\n",
        "        self.id_map = dict(zip(mask_df['node_id'], mask_df['PATIENTID']))\n",
        "        self.train_patient_list = torch.tensor(mask_df[mask_df['train']==0]['node_id'].to_numpy())\n",
        "        self.validate_patient_list = torch.tensor(mask_df[mask_df['train']==1]['node_id'].to_numpy())\n",
        "        self.test_patient_list = torch.tensor(mask_df[mask_df['train']==2]['node_id'].to_numpy())\n",
        "        self.num_samples_train_minority_class = torch.sum(self.label_data[self.train_patient_list]==1).item()\n",
        "        self.num_samples_train_majority_class = torch.sum(self.label_data[self.train_patient_list]==0).item()\n",
        "        self.num_samples_valid_minority_class = torch.sum(self.label_data[self.validate_patient_list]==1).item()\n",
        "        self.num_samples_valid_majority_class = torch.sum(self.label_data[self.validate_patient_list]==0).item()\n",
        "\n",
        "        if model_type != 'baseline':\n",
        "            self.edge_df = pd.read_csv(raw_data_dir + 'Gen3_50k_0.7_142857_edgefile.csv')\n",
        "            self.edge_df = self.edge_df.groupby('target_patient').agg(list)\n",
        "\n",
        "    def get_static_data(self, patients):\n",
        "        x_static = self.static_data[patients]\n",
        "        y = self.label_data[patients]\n",
        "        return x_static, y\n",
        "\n",
        "    def get_alt_static_data(self, patients):\n",
        "        x_static = self.alt_static_data[patients]\n",
        "        return x_static\n",
        "\n",
        "    def get_longitudinal_data(self, patients):\n",
        "        if self.local:\n",
        "            # return simulated data for local testing\n",
        "            num_nodes = len(patients)\n",
        "            num_years = self.params['obs_window_end']-self.params['obs_window_start']+1\n",
        "            num_features = len(self.longitudinal_features)\n",
        "            num_data = int(num_nodes*num_years*num_features*0.01)\n",
        "            i = [choices(range(num_nodes),k=num_data), choices(range(num_years),k=num_data), choices(range(num_features),k=num_data)]\n",
        "            v = [1]*num_data\n",
        "            x_longitudinal = torch.sparse_coo_tensor(i, v, (num_nodes, num_years, num_features), dtype=torch.float32)\n",
        "            x_longitudinal_dense = x_longitudinal.to_dense()\n",
        "        else:\n",
        "            # fetch data from SQLite database\n",
        "            id_list = [self.id_map[patient.item()] for patient in patients]\n",
        "            data = pd.DataFrame()\n",
        "            for patient in id_list:\n",
        "                command = \"SELECT PATIENTID, EVENT_YEAR, ENDPOINT FROM long WHERE PATIENTID='{}'\".format(patient)\n",
        "                data = pd.concat([data, pd.read_sql_query(command, self.conn)])\n",
        "            data = data[data['ENDPOINT'].isin(self.longitudinal_features)]\n",
        "\n",
        "            # limit to observation window years\n",
        "            data['EVENT_YEAR'] = data['EVENT_YEAR'].astype(int)\n",
        "            data = data[(data['EVENT_YEAR']>=self.params['obs_window_start'])&(data['EVENT_YEAR']<=self.params['obs_window_end'])]\n",
        "\n",
        "            # map to index positions\n",
        "            node_index = dict(zip(id_list, range(len(id_list))))\n",
        "            year_index = dict(zip(np.arange(self.params['obs_window_start'], self.params['obs_window_end']+1), range(self.params['obs_window_end']-self.params['obs_window_start']+1)))\n",
        "            feat_index = dict(zip(self.longitudinal_features, range(len(self.longitudinal_features))))\n",
        "            data['PATIENTID'] = data['PATIENTID'].map(node_index)\n",
        "            data['EVENT_YEAR'] = data['EVENT_YEAR'].map(year_index)\n",
        "            data['ENDPOINT'] = data['ENDPOINT'].map(feat_index)\n",
        "\n",
        "            # create sparse tensor\n",
        "            i = [data['PATIENTID'].tolist(), data['EVENT_YEAR'].tolist(), data['ENDPOINT'].tolist()]\n",
        "            v = [1]*len(data)\n",
        "            x_longitudinal = torch.sparse_coo_tensor(i, v, (len(node_index), len(year_index), len(feat_index)), dtype=torch.float32)\n",
        "            x_longitudinal_dense = x_longitudinal.to_dense()\n",
        "\n",
        "        return x_longitudinal_dense\n",
        "\n",
        "    def get_relatives(self, patients):\n",
        "        \"\"\"Returns a list of node ids included in any of these patient graphs\n",
        "        \"\"\"\n",
        "        return torch.tensor(list(set([i for list in self.edge_df.loc[patients]['node1'].to_list() for i in list] + [i for list in self.edge_df.loc[patients]['node2'].to_list() for i in list])))\n",
        "\n",
        "    def construct_patient_graph(self, patient, all_relatives, all_x_static, all_y, all_x_longitudinal=None):\n",
        "        \"\"\"Creates a re-indexed pytorch geometric data object for the patient\n",
        "        \"\"\"\n",
        "        # order nodes and get indices in all_relatives to retrieve feature data\n",
        "        node_ordering = np.asarray(list(set(self.edge_df.loc[patient].node1 + self.edge_df.loc[patient].node2)))\n",
        "        node_indices = [list(all_relatives.tolist()).index(value) for value in node_ordering]\n",
        "        x_static = all_x_static[node_indices]\n",
        "        y = all_y[list(all_relatives.tolist()).index(patient)] # predicting single value for each graph\n",
        "\n",
        "        # reindex the edge indices from 0, 1, ... num_nodes\n",
        "        node1 = [list(node_ordering.tolist()).index(value) for value in self.edge_df.loc[patient].node1]\n",
        "        node2 = [list(node_ordering.tolist()).index(value) for value in self.edge_df.loc[patient].node2]\n",
        "        edge_index = torch.tensor([node1,node2], dtype=torch.long)\n",
        "        edge_weight = torch.t(torch.tensor(self.edge_df.loc[patient][self.edge_features], dtype=torch.float))\n",
        "\n",
        "        data = torch_geometric.data.Data(x=x_static, edge_index=edge_index, y=y, edge_attr=edge_weight)\n",
        "        transform = torch_geometric.transforms.ToUndirected(reduce='mean')\n",
        "        data = transform(data)\n",
        "        if all_x_longitudinal is not None: data.x_longitudinal = all_x_longitudinal[node_indices]\n",
        "        data.target_index = torch.tensor(list(node_ordering.tolist()).index(patient))\n",
        "        return data\n",
        "\n",
        "\n",
        "class Data(Dataset):\n",
        "    def __init__(self, patient_list, fetch_data):\n",
        "        \"\"\"\n",
        "        Loads non-graph datasets for a given list of patients\n",
        "        Returns (x_static, x_longitudinal, y) if longitudinal data included, else (x_static, y)\n",
        "        \"\"\"\n",
        "        self.patient_list = patient_list\n",
        "        self.num_target_patients = len(patient_list)\n",
        "        self.fetch_data = fetch_data\n",
        "        self.include_longitudinal = len(fetch_data.longitudinal_features)>0\n",
        "\n",
        "    def __getitem__(self, patients):\n",
        "        batch_patient_list = self.patient_list[patients]\n",
        "        x_static, y = self.fetch_data.get_static_data(batch_patient_list)\n",
        "        if self.include_longitudinal:\n",
        "            x_longitudinal = self.fetch_data.get_longitudinal_data(batch_patient_list)\n",
        "            return x_static, x_longitudinal, y\n",
        "        else:\n",
        "            return x_static, y\n",
        "\n",
        "    def __len__(self):\n",
        "        return self.num_target_patients\n",
        "\n",
        "\n",
        "class GraphData(GraphDataset):\n",
        "  def __init__(self, patient_list, fetch_data):\n",
        "      \"\"\"\n",
        "      Loads a batch of multiple patient graphs\n",
        "      \"\"\"\n",
        "      self.patient_list = patient_list\n",
        "      self.num_target_patients = len(patient_list)\n",
        "      self.fetch_data = fetch_data\n",
        "      self.include_longitudinal = len(fetch_data.longitudinal_features)>0\n",
        "\n",
        "  def __getitem__(self, patients):\n",
        "      # returns multiple patient graphs by constructing a pytorch geometric Batch object\n",
        "      batch_patient_list = self.patient_list[patients]\n",
        "      data_list = []\n",
        "\n",
        "      # it's more efficient to fetch feature data for all patients and their relatives,\n",
        "      # and then split into separate graphs\n",
        "      all_relatives = self.fetch_data.get_relatives(batch_patient_list)\n",
        "      all_x_static, all_y = self.fetch_data.get_static_data(all_relatives)\n",
        "      patient_x_static = self.fetch_data.get_alt_static_data(batch_patient_list)\n",
        "      if self.include_longitudinal: all_x_longitudinal = self.fetch_data.get_longitudinal_data(all_relatives)\n",
        "      else: all_x_longitudinal = None\n",
        "\n",
        "      patient_index = 0\n",
        "      for patient in batch_patient_list:\n",
        "        patient_graph = self.fetch_data.construct_patient_graph(patient.item(), all_relatives, all_x_static, all_y, all_x_longitudinal)\n",
        "        patient_graph.patient_x_static = patient_x_static[patient_index].reshape(1,-1)\n",
        "        if self.include_longitudinal:\n",
        "            patient_x_longitudinal = patient_graph.x_longitudinal[patient_graph.target_index]\n",
        "            patient_graph.patient_x_longitudinal = patient_x_longitudinal[None,:,:]\n",
        "        data_list.append(patient_graph)\n",
        "        patient_index += 1\n",
        "\n",
        "      batch_data = Batch.from_data_list(data_list)\n",
        "      return batch_data\n",
        "\n",
        "  def __len__(self):\n",
        "      return self.num_target_patients"
      ],
      "metadata": {
        "id": "aT2y5rljzAVX"
      },
      "execution_count": null,
      "outputs": []
    },
    {
      "cell_type": "code",
      "source": [
        "def get_data_and_loader(patient_list, fetch_data, model_type, batch_size, shuffle=True):\n",
        "    \"\"\"\n",
        "    Parameters:\n",
        "    patient_list: list of patients (target samples) to load data for\n",
        "    fetch_data: the data object\n",
        "    params: dictionary of other parameters\n",
        "    shuffle: samples in random order if true\n",
        "    \"\"\"\n",
        "    if model_type == 'baseline':\n",
        "        dataset = Data(patient_list, fetch_data)\n",
        "    elif model_type in ['graph', 'graph_no_target', 'explainability']:\n",
        "        dataset = GraphData(patient_list, fetch_data)\n",
        "\n",
        "    if shuffle:\n",
        "        sample_order = torch.utils.data.sampler.RandomSampler(dataset)\n",
        "    else:\n",
        "        sample_order = torch.utils.data.sampler.SequentialSampler(dataset)\n",
        "\n",
        "    sampler = torch.utils.data.sampler.BatchSampler(\n",
        "        sample_order,\n",
        "        batch_size=batch_size,\n",
        "        drop_last=False)\n",
        "\n",
        "    loader = DataLoader(dataset, sampler=sampler, num_workers=1)\n",
        "    return dataset, loader\n"
      ],
      "metadata": {
        "id": "RnWXo-CfMCfr"
      },
      "execution_count": null,
      "outputs": []
    },
    {
      "cell_type": "markdown",
      "source": [
        "## Data Description\n",
        "### Source of the data\n",
        "The data is sourced from the Github repository at https://github.com/dsgelab/family-EHR-graphs. Since the paper relies on a nationwide health registry dataset that cannot be publicly shared due to privacty concerns, this dataset is designed to mimic the key properties of the actual data.\n",
        "\n",
        "### Statistics\n",
        "This is synthetic data, which means we are able to\n",
        "  choose the amount of data we would like to use. In this case, we are using 150000 number of rows. Out of 150000 rows, 57297 are marked as True and 92703 are marked as False\n",
        "\n",
        "### Data process\n",
        "We are splitting the data into an 80/20 train/test split. For example, for baseline non-longitudinal data, we are only usig 39,297 rows of data. For training, we are using 31,437 rows of data andn 7860 for testing. As this is synthetic data, there is little to no cleaning required.\n",
        "\n",
        "\n",
        "<br>Below is an example of the sample data we utilized to train, validate, and test our baseline model"
      ],
      "metadata": {
        "id": "DDJroP2g1kyC"
      }
    },
    {
      "cell_type": "code",
      "source": [
        "model_type='baseline'\n",
        "fetch_data = DataFetch(model_type=model_type, featfile='featfile_A2.csv', gnn_layer='graphconv')\n",
        "train_patient_list = fetch_data.train_patient_list\n",
        "validate_patient_list = fetch_data.validate_patient_list\n",
        "num_features_static = len(fetch_data.static_features)\n",
        "num_samples_train_dataset = len(train_patient_list)\n",
        "num_samples_valid_dataset = len(validate_patient_list)\n",
        "num_samples_train_minority_class = fetch_data.num_samples_train_minority_class\n",
        "num_samples_valid_minority_class = fetch_data.num_samples_valid_minority_class\n",
        "num_samples_train_majority_class = fetch_data.num_samples_train_majority_class\n",
        "num_samples_valid_majority_class = fetch_data.num_samples_valid_majority_class\n",
        "\n",
        "print('static_data: ', len(fetch_data.static_data))\n",
        "print('label data: ', len(fetch_data.label_data))\n",
        "print('True label: ', fetch_data.label_data.sum().item())\n",
        "print('False label: ', len(fetch_data.label_data) -fetch_data.label_data.sum().item())\n",
        "\n",
        "plt.bar(['True', 'False'], [fetch_data.label_data.sum().item(), len(fetch_data.label_data) - fetch_data.label_data.sum().item()], width=0.5)\n",
        "plt.title('True vs False')\n",
        "plt.xlabel('Label')\n",
        "plt.ylabel('# of data')\n",
        "plt.show()\n",
        "plt.clf()"
      ],
      "metadata": {
        "colab": {
          "base_uri": "https://localhost:8080/",
          "height": 559
        },
        "id": "Mc09A3_M1kPI",
        "outputId": "0d303ec1-e264-4b5e-f5e8-c7f579f784ca"
      },
      "execution_count": null,
      "outputs": [
        {
          "output_type": "stream",
          "name": "stdout",
          "text": [
            "static_data:  150000\n",
            "label data:  150000\n",
            "True label:  57297.0\n",
            "False label:  92703.0\n"
          ]
        },
        {
          "output_type": "display_data",
          "data": {
            "text/plain": [
              "<Figure size 640x480 with 1 Axes>"
            ],
            "image/png": "[encoded data removed]"
          },
          "metadata": {}
        },
        {
          "output_type": "display_data",
          "data": {
            "text/plain": [
              "<Figure size 640x480 with 0 Axes>"
            ]
          },
          "metadata": {}
        }
      ]
    },
    {
      "cell_type": "code",
      "source": [
        "print('Train dataset: ', len(train_patient_list))\n",
        "print('Validate dataset: ', len(validate_patient_list))\n",
        "print('Test dataset: ', len(fetch_data.test_patient_list))\n",
        "\n",
        "plt.bar(['Train', 'Validate', 'Test'], [len(train_patient_list), len(validate_patient_list), len(fetch_data.test_patient_list)], width=0.5)\n",
        "plt.title('Train vs Validate vs Test')\n",
        "plt.ylabel('# of data')\n",
        "plt.show()\n",
        "plt.clf()"
      ],
      "metadata": {
        "colab": {
          "base_uri": "https://localhost:8080/",
          "height": 521
        },
        "id": "lihfkl4A3Es8",
        "outputId": "6a086975-5031-4cfc-942c-4184f3bba731"
      },
      "execution_count": null,
      "outputs": [
        {
          "output_type": "stream",
          "name": "stdout",
          "text": [
            "Train dataset:  27565\n",
            "Validate dataset:  3872\n",
            "Test dataset:  7860\n"
          ]
        },
        {
          "output_type": "display_data",
          "data": {
            "text/plain": [
              "<Figure size 640x480 with 1 Axes>"
            ],
            "image/png": "[encoded data removed]"
          },
          "metadata": {}
        },
        {
          "output_type": "display_data",
          "data": {
            "text/plain": [
              "<Figure size 640x480 with 0 Axes>"
            ]
          },
          "metadata": {}
        }
      ]
    },
    {
      "cell_type": "markdown",
      "source": [
        "\n",
        "##   Model\n",
        "The model includes the model definition which usually is a class, model training, and other necessary parts. The described models discussed and based on the research paper and its Github repository at https://github.com/dsgelab/family-EHR-graphs [1].\n",
        "\n",
        "* Training Objectives: We are using the Adam optimizer and the WeightedBCELoss loss function. Our dropout rate is 0.5 and our learning rate is 0.001.\n",
        "\n",
        "  ### Baseline Model\n",
        "  * Model architecture: The Baseline Model has three linear layers, with a ReLU activation function, Sigmoid activation function, and a Dropout layer.\n",
        "  * The model is not pretrained, and the training code is shown below.\n",
        "\n",
        "  ### GNN Model\n",
        "  * Model Architecture: The GNN model can be customized more than the Baseline model. There are two GNN layers in use in this model, which can be one of three types: GCN, GraphConv, or GAT. Additionally, there can be one of many types of pooling methods: target, sum, mean, etc. The model also has quite a few linear layers that is chooses between based on for different parts of the data. One final Linear layer is used to retrieve patient results, and a different final Linear layer is used to retrieve family results.\n",
        "  * The model is not pretrained, and the training code is shown below.\n",
        "\n",
        "\n",
        "  <br>\n",
        "  1. Sun, J, \"Characterizing personalized effects of family information on disease risk using graph representation learning.\", Proceedings of Machine Learning Research, 2023, 219:1–25, doi: https://doi.org/10.48550/arXiv.2304.05010"
      ],
      "metadata": {
        "id": "3muyDPFPbozY"
      }
    },
    {
      "cell_type": "code",
      "source": [
        "class Baseline(torch.nn.Module):\n",
        "    def __init__(self, num_features_static, hidden_dim, dropout_rate):\n",
        "        super().__init__()\n",
        "        self.static_linear1 = nn.Linear(num_features_static, hidden_dim)\n",
        "        self.static_linear2 = nn.Linear(hidden_dim, hidden_dim)\n",
        "        self.final_linear = nn.Linear(hidden_dim, 1)\n",
        "        self.relu = nn.ReLU()\n",
        "        self.sigmoid = nn.Sigmoid()\n",
        "        self.dropout = nn.Dropout(dropout_rate)\n",
        "\n",
        "    def forward(self, x_static):\n",
        "        linear_out = self.relu(self.static_linear1(x_static))\n",
        "        linear_out = self.relu(self.static_linear2(linear_out))\n",
        "        linear_out = self.dropout(linear_out)\n",
        "        out = self.sigmoid(self.final_linear(linear_out))\n",
        "        return out\n",
        "\n",
        "class GNN(torch.nn.Module):\n",
        "    def __init__(self, num_features_static_graph, num_features_static_node, hidden_dim, gnn_layer, pooling_method, dropout_rate, ratio):\n",
        "        super().__init__()\n",
        "        self.pooling_method = pooling_method\n",
        "        self.static_linear1 = nn.Linear(num_features_static_node, hidden_dim)\n",
        "        self.static_linear2 = nn.Linear(hidden_dim, hidden_dim)\n",
        "\n",
        "        # which gnn layer to use is specified by input argument\n",
        "        if gnn_layer=='gcn':\n",
        "            print(\"Using GCN layers\")\n",
        "            self.conv1 = gnn.GCNConv(num_features_static_graph, hidden_dim)\n",
        "            self.conv2 = gnn.GCNConv(hidden_dim, hidden_dim)\n",
        "        if gnn_layer=='graphconv':\n",
        "            print(\"Using GraphConv layers\")\n",
        "            self.conv1 = gnn.GraphConv(num_features_static_graph, hidden_dim)\n",
        "            self.conv2 = gnn.GraphConv(hidden_dim, hidden_dim)\n",
        "        elif gnn_layer=='gat':\n",
        "            print(\"Using GAT layers\")\n",
        "            self.conv1 = gnn.GATConv(num_features_static_graph, hidden_dim)\n",
        "            self.conv2 = gnn.GATConv(hidden_dim, hidden_dim)\n",
        "\n",
        "        self.pre_final_linear = nn.Linear(2*hidden_dim, hidden_dim)\n",
        "        self.final_linear_com = nn.Linear(hidden_dim, 1)\n",
        "        self.final_linear = nn.Linear(hidden_dim, 1)\n",
        "        self.final_linear1 = nn.Linear(hidden_dim, 1)\n",
        "        self.final_linear2 = nn.Linear(hidden_dim, 1)\n",
        "        self.relu = nn.ReLU()\n",
        "        self.sigmoid = nn.Sigmoid()\n",
        "\n",
        "        self.TopKpool = gnn.TopKPooling(hidden_dim, ratio=ratio)\n",
        "        self.SAGpool = gnn.SAGPooling(hidden_dim, ratio=ratio)\n",
        "        self.dropout = nn.Dropout(dropout_rate)\n",
        "\n",
        "    def forward(self, x_static_node, x_static_graph, edge_index, edge_weight, batch, target_index):\n",
        "        # patient part of the network\n",
        "        linear_out = self.relu(self.static_linear1(x_static_node))\n",
        "        linear_out = self.relu(self.static_linear2(linear_out))\n",
        "        patient_out = self.dropout(linear_out)\n",
        "\n",
        "        # family part of the network\n",
        "        gnn_out = self.relu(self.conv1(x_static_graph, edge_index, edge_weight))\n",
        "        gnn_out = self.relu(self.conv2(gnn_out, edge_index, edge_weight))\n",
        "\n",
        "        if self.pooling_method=='target':\n",
        "            out = gnn_out[target_index] # instead of pooling, use the target node embedding\n",
        "        elif self.pooling_method=='sum':\n",
        "            out = gnn.global_add_pool(gnn_out, batch)\n",
        "        elif self.pooling_method=='mean':\n",
        "            out = gnn.global_mean_pool(gnn_out, batch)\n",
        "        elif self.pooling_method=='topkpool_sum':\n",
        "            out, pool_edge_index, pool_edge_attr, pool_batch, _, _ = self.TopKpool(gnn_out, edge_index, edge_weight, batch)\n",
        "            out = gnn.global_add_pool(out, pool_batch)\n",
        "        elif self.pooling_method=='topkpool_mean':\n",
        "            out, pool_edge_index, pool_edge_attr, pool_batch, _, _ = self.TopKpool(gnn_out, edge_index, edge_weight, batch)\n",
        "            out = gnn.global_mean_pool(out, pool_batch)\n",
        "        elif self.pooling_method=='sagpool_sum':\n",
        "            out, pool_edge_index, pool_edge_attr, pool_batch, _, _ = self.SAGpool(gnn_out, edge_index, edge_weight, batch)\n",
        "            out = gnn.global_add_pool(out, pool_batch)\n",
        "        elif self.pooling_method=='sagpool_mean':\n",
        "            out, pool_edge_index, pool_edge_attr, pool_batch, _, _ = self.SAGpool(gnn_out, edge_index, edge_weight, batch)\n",
        "            out = gnn.global_mean_pool(out, pool_batch)\n",
        "\n",
        "        family_out = self.dropout(out)\n",
        "\n",
        "        # combined part of network (classifiation output)\n",
        "        out = torch.cat((patient_out, family_out), 1)\n",
        "        out = self.relu(self.pre_final_linear(out))\n",
        "        out = self.sigmoid(self.final_linear_com(out))\n",
        "        # separate output heads for different parts of the network (for loss calculations)\n",
        "        patient_out = self.sigmoid(self.final_linear1(patient_out))\n",
        "        family_out = self.sigmoid(self.final_linear2(family_out))\n",
        "        return out, patient_out, family_out"
      ],
      "metadata": {
        "id": "5x4tzdo4Cmqh"
      },
      "execution_count": null,
      "outputs": []
    },
    {
      "cell_type": "markdown",
      "source": [
        "# Custom Loss function\n",
        "Class imbalance arises because the models are predicting diseases with prevalence < 10% in the selected cohorts. The authors of the paper alleviate this by using class-weighted loss functions, sampling strategies designed for imbalanced classification, methods to prevent overfitting, and careful choice and interpretation of evaluation metrics (Wharrie, Sophie, et al.).\n"
      ],
      "metadata": {
        "id": "_U7BIR7nCyWq"
      }
    },
    {
      "cell_type": "code",
      "source": [
        "class WeightedBCELoss(torch.nn.Module):\n",
        "    def __init__(self, num_samples_dataset, num_samples_minority_class, num_samples_majority_class):\n",
        "        super(WeightedBCELoss,self).__init__()\n",
        "        self.num_samples_dataset = num_samples_dataset\n",
        "        self.num_samples_minority_class = num_samples_minority_class\n",
        "        self.num_samples_majority_class = num_samples_majority_class\n",
        "\n",
        "    def forward(self, y_est, y):\n",
        "        weight_minority = self.num_samples_dataset / self.num_samples_minority_class\n",
        "        weight_majority = self.num_samples_dataset / self.num_samples_majority_class\n",
        "        class_weights = torch.tensor([[weight_minority] if i==1 else [weight_majority] for i in y])\n",
        "        bce_loss = torch.nn.BCELoss(weight=class_weights)\n",
        "        weighted_bce_loss = bce_loss(y_est, y)\n",
        "        return weighted_bce_loss\n"
      ],
      "metadata": {
        "id": "BEH4x0h12who"
      },
      "execution_count": null,
      "outputs": []
    },
    {
      "cell_type": "markdown",
      "source": [
        "Calculate Metrics from the output"
      ],
      "metadata": {
        "id": "hsVVZDQ59DHc"
      }
    },
    {
      "cell_type": "code",
      "source": [
        "def brier_skill_score(actual_y, predicted_prob_y):\n",
        "    e = sum(actual_y) / len(actual_y)\n",
        "    bs_ref = sum((e-actual_y)**2) / len(actual_y)\n",
        "    bs = sum((predicted_prob_y-actual_y)**2) / len(actual_y)\n",
        "    bss = 1 - bs / bs_ref\n",
        "    return bss\n",
        "\n",
        "def calculate_metrics(actual_y, predicted_y, predicted_prob_y):\n",
        "    auc_roc = metrics.roc_auc_score(actual_y, predicted_prob_y)\n",
        "    precision, recall, thresholds = metrics.precision_recall_curve(actual_y, predicted_prob_y)\n",
        "    auc_prc = metrics.auc(recall, precision)\n",
        "    mcc = metrics.matthews_corrcoef(actual_y, predicted_y)\n",
        "    tn, fp, fn, tp = metrics.confusion_matrix(actual_y, predicted_y).ravel()\n",
        "    ts = tp / (tp + fn + fp)\n",
        "    recall = tp / (tp + fn)\n",
        "    f1 = (2*tp) / (2*tp + fp + fn)\n",
        "    bss = brier_skill_score(actual_y, predicted_prob_y)\n",
        "\n",
        "    metric_results = {'metric_auc_roc':auc_roc, # typically reported, but can be biased for imbalanced classes\n",
        "               'metric_auc_prc':auc_prc, # better suited for imbalanced classes\n",
        "               'metric_f1':f1, # also should be better suited for imbalanced classes\n",
        "               'metric_recall':recall, # important for medical studies, to reduce misses of positive instances\n",
        "               'metric_mcc':mcc, # correlation that is suitable for imbalanced classes\n",
        "               'metric_ts':ts, # suited for rare events, penalizing misclassification as the rare event (fp)\n",
        "               'metric_bss':bss, # brier skill score, where higher score corresponds better calibration of predicted probabilities\n",
        "               'true_negatives':tn,\n",
        "               'false_positives':fp,\n",
        "               'false_negatives':fn,\n",
        "               'true_positives':tp}\n",
        "\n",
        "    return metric_results"
      ],
      "metadata": {
        "id": "Zsd7PDUs6gg5"
      },
      "execution_count": null,
      "outputs": []
    },
    {
      "cell_type": "markdown",
      "source": [
        "### Early Stopping technique\n",
        "Early stops the training if validation loss doesn't improve after a given patience."
      ],
      "metadata": {
        "id": "dT-GwQi-HHjV"
      }
    },
    {
      "cell_type": "code",
      "source": [
        "class EarlyStopping:\n",
        "    \"\"\"\n",
        "    Ref. https://github.com/Bjarten/early-stopping-pytorch/blob/master/pytorchtools.py\n",
        "    \"\"\"\n",
        "    def __init__(self, patience=5, verbose=False, delta=1, path='checkpoint.pt', trace_func=print):\n",
        "        \"\"\"\n",
        "        Args:\n",
        "            patience (int): How long to wait after last time validation loss improved.\n",
        "                            Default: 5\n",
        "            verbose (bool): If True, prints a message for each validation loss improvement.\n",
        "                            Default: False\n",
        "            delta (float): Minimum change in the monitored quantity to qualify as an improvement.\n",
        "                            Default: 1\n",
        "            path (str): Path for the checkpoint to be saved to.\n",
        "                            Default: 'checkpoint.pt'\n",
        "            trace_func (function): trace print function.\n",
        "                            Default: print\n",
        "        \"\"\"\n",
        "        self.patience = patience\n",
        "        self.verbose = verbose\n",
        "        self.counter = 0\n",
        "        self.best_score = None\n",
        "        self.early_stop = False\n",
        "        self.val_loss_min = np.Inf\n",
        "        self.delta = delta\n",
        "        self.path = path\n",
        "        self.trace_func = trace_func\n",
        "    def __call__(self, val_loss, model):\n",
        "\n",
        "        score = -val_loss\n",
        "\n",
        "        if self.best_score is None:\n",
        "            self.best_score = score\n",
        "            self.save_checkpoint(val_loss, model)\n",
        "        elif score < self.best_score + self.delta:\n",
        "            self.counter += 1\n",
        "            self.trace_func(f'EarlyStopping counter: {self.counter} out of {self.patience}')\n",
        "            if self.counter >= self.patience:\n",
        "                self.early_stop = True\n",
        "        else:\n",
        "            self.best_score = score\n",
        "            self.save_checkpoint(val_loss, model)\n",
        "            self.counter = 0\n",
        "\n",
        "    def save_checkpoint(self, val_loss, model):\n",
        "        '''Saves model when validation loss decrease.'''\n",
        "        if self.verbose:\n",
        "            self.trace_func(f'Validation loss decreased ({self.val_loss_min:.6f} --> {val_loss:.6f}).  Saving model ...')\n",
        "        torch.save(model.state_dict(), self.path)\n",
        "        self.val_loss_min = val_loss"
      ],
      "metadata": {
        "id": "qit_ExGvprv6"
      },
      "execution_count": null,
      "outputs": []
    },
    {
      "cell_type": "markdown",
      "source": [
        "### Plot Metrics\n",
        "Functions to make plots for metrics and save them to Google Drive"
      ],
      "metadata": {
        "id": "qRlGQtI8HZHW"
      }
    },
    {
      "cell_type": "code",
      "source": [
        "def plot_separate_losses(network_losses, target_losses, family_losses, model_type, isTrain):\n",
        "    plt.plot(network_losses, label='Network')\n",
        "    plt.plot(target_losses, label='Target')\n",
        "    plt.plot(family_losses, label='Family')\n",
        "    plt.title('Loss vs Epochs')\n",
        "    plt.xlabel('Epochs')\n",
        "    plt.ylabel('Loss')\n",
        "    plt.legend()\n",
        "    if model_type == 'gcn':\n",
        "      if isTrain:\n",
        "        plt.savefig(raw_data_dir+'drive/MyDrive/CS598 DLH/Project/gnn_gcn_train_separate_loss.png')\n",
        "      else:\n",
        "        plt.savefig(raw_data_dir+'drive/MyDrive/CS598 DLH/Project/gnn_gcn_valid_separate_loss.png')\n",
        "    else:\n",
        "      if isTrain:\n",
        "        plt.savefig(raw_data_dir+'drive/MyDrive/CS598 DLH/Project/gnn_graphconv_train_separate_loss.png')\n",
        "      else:\n",
        "        plt.savefig(raw_data_dir+'drive/MyDrive/CS598 DLH/Project/gnn_graphconv_valid_separate_loss.png')\n",
        "    plt.clf()\n",
        "\n",
        "def plot_losses(train_losses, valid_losses, model_type):\n",
        "    plt.plot(train_losses, label='Train')\n",
        "    plt.plot(valid_losses, label='Validate')\n",
        "    plt.title('Loss vs Epochs')\n",
        "    plt.xlabel('Epochs')\n",
        "    plt.ylabel('Loss')\n",
        "    plt.legend()\n",
        "    if model_type == 'gcn':\n",
        "      plt.savefig(raw_data_dir+'drive/MyDrive/CS598 DLH/Project/gnn_gcn_loss.png')\n",
        "    elif model_type == 'graphconv':\n",
        "      plt.savefig(raw_data_dir+'drive/MyDrive/CS598 DLH/Project/gnn_graphconv_loss.png')\n",
        "    else:\n",
        "      plt.savefig(raw_data_dir+'drive/MyDrive/CS598 DLH/Project/baseline_loss.png')\n",
        "    plt.clf()"
      ],
      "metadata": {
        "id": "QxFyvZFLtBMn"
      },
      "execution_count": null,
      "outputs": []
    },
    {
      "cell_type": "markdown",
      "source": [
        "## Training\n",
        "\n",
        "# Hyperparameters\n",
        "learnig rate = 0.001\n",
        "<br>batch size = 250\n",
        "<br>dropout = 0.5\n",
        "\n",
        "# Computational requirements\n",
        "hardware = cpu\n",
        "<br>Number of CPU = 2\n",
        "<br>model name = Intel(R) Xeon(R) CPU @ 2.20GHz\n",
        "<br>Number of maximum training epochs = 100\n"
      ],
      "metadata": {
        "id": "sz17oVHDfMYG"
      }
    },
    {
      "cell_type": "code",
      "source": [
        "from psutil import *\n",
        "# This code will return the number of CPU\n",
        "print(\"Number of CPU: \", cpu_count())\n",
        "# This code will return the CPU info\n",
        "!cat /proc/cpuinfo"
      ],
      "metadata": {
        "colab": {
          "base_uri": "https://localhost:8080/"
        },
        "id": "lwgyj7T-G6eW",
        "outputId": "1fc57553-012e-4fe8-bbc0-648d139e0914"
      },
      "execution_count": null,
      "outputs": [
        {
          "output_type": "stream",
          "name": "stdout",
          "text": [
            "Number of CPU:  2\n",
            "processor\t: 0\n",
            "vendor_id\t: GenuineIntel\n",
            "cpu family\t: 6\n",
            "model\t\t: 79\n",
            "model name\t: Intel(R) Xeon(R) CPU @ 2.20GHz\n",
            "stepping\t: 0\n",
            "microcode\t: 0xffffffff\n",
            "cpu MHz\t\t: 2200.208\n",
            "cache size\t: 56320 KB\n",
            "physical id\t: 0\n",
            "siblings\t: 2\n",
            "core id\t\t: 0\n",
            "cpu cores\t: 1\n",
            "apicid\t\t: 0\n",
            "initial apicid\t: 0\n",
            "fpu\t\t: yes\n",
            "fpu_exception\t: yes\n",
            "cpuid level\t: 13\n",
            "wp\t\t: yes\n",
            "flags\t\t: fpu vme de pse tsc msr pae mce cx8 apic sep mtrr pge mca cmov pat pse36 clflush mmx fxsr sse sse2 ss ht syscall nx pdpe1gb rdtscp lm constant_tsc rep_good nopl xtopology nonstop_tsc cpuid tsc_known_freq pni pclmulqdq ssse3 fma cx16 pcid sse4_1 sse4_2 x2apic movbe popcnt aes xsave avx f16c rdrand hypervisor lahf_lm abm 3dnowprefetch invpcid_single ssbd ibrs ibpb stibp fsgsbase tsc_adjust bmi1 hle avx2 smep bmi2 erms invpcid rtm rdseed adx smap xsaveopt arat md_clear arch_capabilities\n",
            "bugs\t\t: cpu_meltdown spectre_v1 spectre_v2 spec_store_bypass l1tf mds swapgs taa mmio_stale_data retbleed\n",
            "bogomips\t: 4400.41\n",
            "clflush size\t: 64\n",
            "cache_alignment\t: 64\n",
            "address sizes\t: 46 bits physical, 48 bits virtual\n",
            "power management:\n",
            "\n",
            "processor\t: 1\n",
            "vendor_id\t: GenuineIntel\n",
            "cpu family\t: 6\n",
            "model\t\t: 79\n",
            "model name\t: Intel(R) Xeon(R) CPU @ 2.20GHz\n",
            "stepping\t: 0\n",
            "microcode\t: 0xffffffff\n",
            "cpu MHz\t\t: 2200.208\n",
            "cache size\t: 56320 KB\n",
            "physical id\t: 0\n",
            "siblings\t: 2\n",
            "core id\t\t: 0\n",
            "cpu cores\t: 1\n",
            "apicid\t\t: 1\n",
            "initial apicid\t: 1\n",
            "fpu\t\t: yes\n",
            "fpu_exception\t: yes\n",
            "cpuid level\t: 13\n",
            "wp\t\t: yes\n",
            "flags\t\t: fpu vme de pse tsc msr pae mce cx8 apic sep mtrr pge mca cmov pat pse36 clflush mmx fxsr sse sse2 ss ht syscall nx pdpe1gb rdtscp lm constant_tsc rep_good nopl xtopology nonstop_tsc cpuid tsc_known_freq pni pclmulqdq ssse3 fma cx16 pcid sse4_1 sse4_2 x2apic movbe popcnt aes xsave avx f16c rdrand hypervisor lahf_lm abm 3dnowprefetch invpcid_single ssbd ibrs ibpb stibp fsgsbase tsc_adjust bmi1 hle avx2 smep bmi2 erms invpcid rtm rdseed adx smap xsaveopt arat md_clear arch_capabilities\n",
            "bugs\t\t: cpu_meltdown spectre_v1 spectre_v2 spec_store_bypass l1tf mds swapgs taa mmio_stale_data retbleed\n",
            "bogomips\t: 4400.41\n",
            "clflush size\t: 64\n",
            "cache_alignment\t: 64\n",
            "address sizes\t: 46 bits physical, 48 bits virtual\n",
            "power management:\n",
            "\n"
          ]
        }
      ]
    },
    {
      "cell_type": "markdown",
      "source": [
        "## Training"
      ],
      "metadata": {
        "id": "yWZk0kKEHtAZ"
      }
    },
    {
      "cell_type": "markdown",
      "source": [
        "**Baseline A2 - Age, Sex, and family history MLP**"
      ],
      "metadata": {
        "id": "2ad0QsP89UjT"
      }
    },
    {
      "cell_type": "code",
      "source": [
        "batch_size=250\n",
        "main_hidden_dim = 20\n",
        "lstm_hidden_dim = 20\n",
        "dropout_rate = 0.5\n",
        "learning_rate = 0.001\n",
        "num_batches_train = int(np.ceil(len(train_patient_list)/batch_size))\n",
        "num_batches_validate = int(np.ceil(len(validate_patient_list)/batch_size))\n",
        "\n",
        "model = Baseline(num_features_static, main_hidden_dim, dropout_rate)\n",
        "\n",
        "loss_func = WeightedBCELoss(num_samples_train_dataset, num_samples_train_minority_class, num_samples_train_majority_class)\n",
        "valid_loss_func = WeightedBCELoss(num_samples_valid_dataset, num_samples_valid_minority_class, num_samples_valid_majority_class)\n",
        "optimizer = torch.optim.Adam(model.parameters(), lr=learning_rate)\n",
        "\n",
        "train_dataset, train_loader = get_data_and_loader(train_patient_list, fetch_data, model_type, batch_size)\n",
        "validate_dataset, validate_loader = get_data_and_loader(validate_patient_list, fetch_data, model_type, batch_size)"
      ],
      "metadata": {
        "id": "-zJoziGVFrth"
      },
      "execution_count": null,
      "outputs": []
    },
    {
      "cell_type": "markdown",
      "source": [
        "\n",
        "**Below is the traing step used to generate the checkpoint file**"
      ],
      "metadata": {
        "id": "XCbqObLJ6ZuY"
      }
    },
    {
      "cell_type": "code",
      "source": [
        "# This code snippet does not need to run since we already have a model checkpoint created for this.\n",
        "# num_batches_train = int(np.ceil(len(train_patient_list)/batch_size))\n",
        "# num_batches_validate = int(np.ceil(len(validate_patient_list)/batch_size))\n",
        "\n",
        "# model = Baseline(num_features_static, main_hidden_dim, dropout_rate)\n",
        "# loss_func = WeightedBCELoss(num_samples_train_dataset, num_samples_train_minority_class, num_samples_train_majority_class)\n",
        "# valid_loss_func = WeightedBCELoss(num_samples_valid_dataset, num_samples_valid_minority_class, num_samples_valid_majority_class)\n",
        "# optimizer = torch.optim.Adam(model.parameters(), lr=learning_rate)\n",
        "\n",
        "# train_dataset, train_loader = get_data_and_loader(train_patient_list, fetch_data, model_type, batch_size)\n",
        "# validate_dataset, validate_loader = get_data_and_loader(validate_patient_list, fetch_data, model_type, batch_size)\n",
        "\n",
        "# model_path = raw_data_dir + 'drive/MyDrive/CS598 DLH/Project/baseline.pt'\n",
        "# train_model_path = raw_data_dir + 'drive/MyDrive/CS598 DLH/Project/train-baseline.pt'\n",
        "# num_epoch = 100\n",
        "\n",
        "# # model training loop: it is better to print the training/validation losses during the training\n",
        "# early_stopping = EarlyStopping(path=train_model_path)\n",
        "# train_losses = []\n",
        "# valid_losses = []\n",
        "# separate_loss_terms = {'NN_train':[], 'target_train':[], 'family_train':[], 'lstm_train':[], 'NN_valid':[], 'target_valid':[], 'family_valid':[], 'lstm_valid':[]}\n",
        "\n",
        "# for i in range(num_epoch):\n",
        "#   model.train()\n",
        "#   epoch_train_loss = []\n",
        "#   separate_loss_terms_epoch = {'NN_train':[], 'target_train':[], 'family_train':[], 'lstm_train':[], 'NN_valid':[], 'target_valid':[], 'family_valid':[], 'lstm_valid':[]}\n",
        "#   for train_batch in tqdm(train_loader, total=num_batches_train):\n",
        "#     x_static, y = train_batch[0][0], train_batch[1][0].unsqueeze(1)\n",
        "#     output = model(x_static)\n",
        "#     loss = loss_func(output, y)\n",
        "#     optimizer.zero_grad()\n",
        "#     loss.backward()\n",
        "#     optimizer.step()\n",
        "#     epoch_train_loss.append(loss.item())\n",
        "\n",
        "#   # eval on validset\n",
        "#   model.eval()\n",
        "#   epoch_valid_loss = []\n",
        "#   valid_output = np.array([])\n",
        "#   valid_y = np.array([])\n",
        "#   for valid_batch in tqdm(validate_loader, total=num_batches_validate):\n",
        "#     x_static, y = valid_batch[0][0], valid_batch[1][0].unsqueeze(1)\n",
        "#     output = model(x_static)\n",
        "#     valid_output = np.concatenate((valid_output, output.reshape(-1).detach().cpu().numpy()))\n",
        "#     valid_y = np.concatenate((valid_y, y.reshape(-1).detach().cpu().numpy()))\n",
        "\n",
        "#     loss = valid_loss_func(output, y)\n",
        "#     epoch_valid_loss.append(loss.item())\n",
        "\n",
        "#   train_loss, valid_loss = np.mean(epoch_train_loss), np.mean(epoch_valid_loss)\n",
        "#   train_losses.append(train_loss)\n",
        "#   valid_losses.append(valid_loss)\n",
        "\n",
        "#   for term_name in separate_loss_terms:\n",
        "#     separate_loss_terms[term_name].append(np.mean(separate_loss_terms_epoch[term_name]))\n",
        "#   print(\"epoch {}\\ttrain loss : {}\\tvalidate loss : {}\".format(i, np.mean(epoch_train_loss), np.mean(epoch_valid_loss)))\n",
        "#   early_stopping(np.mean(epoch_valid_loss), model)\n",
        "#   if early_stopping.early_stop:\n",
        "#     print('Early Stopping')\n",
        "#     break\n",
        "\n",
        "# fpr, tpr, thresholds = metrics.roc_curve(valid_y, valid_output)\n",
        "# gmeans = np.sqrt(tpr * (1-fpr))\n",
        "# ix = np.argmax(gmeans)\n",
        "# threshold = thresholds[ix]\n",
        "\n",
        "# plot_losses(train_losses, valid_losses, 'baseline')\n",
        "# torch.save({\n",
        "#     'epoch': num_epoch,\n",
        "#     'model_state_dict': model.state_dict(),\n",
        "#     'optimizer_state_dict': optimizer.state_dict(),\n",
        "#     'train_losses': train_losses,\n",
        "#     'valid_losses': valid_losses,\n",
        "#     'threshold': threshold\n",
        "#     }, model_path)"
      ],
      "metadata": {
        "id": "gBdVZoTvsSFV",
        "colab": {
          "base_uri": "https://localhost:8080/",
          "height": 609
        },
        "outputId": "919903d6-5c74-4bac-bef8-cb8bbbcbdbce"
      },
      "execution_count": null,
      "outputs": [
        {
          "output_type": "stream",
          "name": "stderr",
          "text": [
            "  0%|          | 0/111 [00:00<?, ?it/s]/usr/lib/python3.10/multiprocessing/popen_fork.py:66: RuntimeWarning: os.fork() was called. os.fork() is incompatible with multithreaded code, and JAX is multithreaded, so this will likely lead to a deadlock.\n",
            "  self.pid = os.fork()\n",
            " 91%|█████████ | 101/111 [00:01<00:00, 102.43it/s]/usr/lib/python3.10/multiprocessing/popen_fork.py:66: RuntimeWarning: os.fork() was called. os.fork() is incompatible with multithreaded code, and JAX is multithreaded, so this will likely lead to a deadlock.\n",
            "  self.pid = os.fork()\n",
            "100%|██████████| 111/111 [00:01<00:00, 81.10it/s] \n",
            "100%|██████████| 16/16 [00:00<00:00, 90.58it/s]\n",
            "/usr/local/lib/python3.10/dist-packages/numpy/core/fromnumeric.py:3504: RuntimeWarning: Mean of empty slice.\n",
            "  return _methods._mean(a, axis=axis, dtype=dtype,\n",
            "/usr/local/lib/python3.10/dist-packages/numpy/core/_methods.py:129: RuntimeWarning: invalid value encountered in scalar divide\n",
            "  ret = ret.dtype.type(ret / rcount)\n"
          ]
        },
        {
          "output_type": "stream",
          "name": "stdout",
          "text": [
            "epoch 0\ttrain loss : 1.4138914787017547\tvalidate loss : 1.3762345910072327\n"
          ]
        },
        {
          "output_type": "stream",
          "name": "stderr",
          "text": [
            "100%|██████████| 111/111 [00:00<00:00, 114.35it/s]\n",
            "100%|██████████| 16/16 [00:00<00:00, 90.99it/s]\n"
          ]
        },
        {
          "output_type": "stream",
          "name": "stdout",
          "text": [
            "epoch 1\ttrain loss : 1.381872318886422\tvalidate loss : 1.371186338365078\n",
            "EarlyStopping counter: 1 out of 5\n"
          ]
        },
        {
          "output_type": "stream",
          "name": "stderr",
          "text": [
            "100%|██████████| 111/111 [00:00<00:00, 112.57it/s]\n",
            "100%|██████████| 16/16 [00:00<00:00, 96.51it/s]\n"
          ]
        },
        {
          "output_type": "stream",
          "name": "stdout",
          "text": [
            "epoch 2\ttrain loss : 1.3488691282701921\tvalidate loss : 1.317891076207161\n",
            "EarlyStopping counter: 2 out of 5\n"
          ]
        },
        {
          "output_type": "stream",
          "name": "stderr",
          "text": [
            "100%|██████████| 111/111 [00:00<00:00, 118.72it/s]\n",
            "100%|██████████| 16/16 [00:00<00:00, 97.85it/s]\n"
          ]
        },
        {
          "output_type": "stream",
          "name": "stdout",
          "text": [
            "epoch 3\ttrain loss : 1.3014025419681996\tvalidate loss : 1.2488487660884857\n",
            "EarlyStopping counter: 3 out of 5\n"
          ]
        },
        {
          "output_type": "stream",
          "name": "stderr",
          "text": [
            "100%|██████████| 111/111 [00:00<00:00, 115.61it/s]\n",
            "100%|██████████| 16/16 [00:00<00:00, 94.46it/s]\n"
          ]
        },
        {
          "output_type": "stream",
          "name": "stdout",
          "text": [
            "epoch 4\ttrain loss : 1.242074469188312\tvalidate loss : 1.188820205628872\n",
            "EarlyStopping counter: 4 out of 5\n"
          ]
        },
        {
          "output_type": "stream",
          "name": "stderr",
          "text": [
            "100%|██████████| 111/111 [00:00<00:00, 117.19it/s]\n",
            "100%|██████████| 16/16 [00:00<00:00, 94.17it/s]\n"
          ]
        },
        {
          "output_type": "stream",
          "name": "stdout",
          "text": [
            "epoch 5\ttrain loss : 1.215760852302517\tvalidate loss : 1.1728611774742603\n",
            "EarlyStopping counter: 5 out of 5\n",
            "Early Stopping\n"
          ]
        },
        {
          "output_type": "display_data",
          "data": {
            "text/plain": [
              "<Figure size 640x480 with 0 Axes>"
            ]
          },
          "metadata": {}
        }
      ]
    },
    {
      "cell_type": "markdown",
      "source": [
        "\n",
        "# Results\n",
        "Baseline:<br>\n",
        "* Area Under the Receiver Operating Characteristic Curve (auc_roc): 0.7423616531503197\n",
        "* Compute Area Under the Curve (auc): 0.24469842750122853<br>\n",
        "* F1 score: 0.3078584931136916<br>\n",
        "* Recall: 0.6529209621993127<br>\n",
        "* MCC: 0.21566619661004827\n",
        "\n",
        "GNN (graphconv):<br>\n",
        "* Area Under the Receiver Operating Characteristic Curve (auc_roc): 0.7561574424503961\n",
        "* Compute Area Under the Curve (auc): 0.2501534301041718<br>\n",
        "* F1 score: 0.3313351498637602<br>\n",
        "* Recall: 0.6964490263459335<br>\n",
        "* MCC: 0.25146318920227423\n",
        "\n",
        "GNN (gcn):<br>\n",
        "* Area Under the Receiver Operating Characteristic Curve (auc_roc): 0.7582678910645871\n",
        "* Compute Area Under the Curve (auc): 0.2615118219594704<br>\n",
        "* F1 score: 0.33721922092692636<br>\n",
        "* Recall: 0.6792668957617412<br>\n",
        "* MCC: 0.2565234631792809\n",
        "\n",
        "\n"
      ],
      "metadata": {
        "id": "gX6bCcZNuxmz"
      }
    },
    {
      "cell_type": "code",
      "source": [
        "# Download model checkpoint\n",
        "gdown.download('https://drive.google.com/uc?id=15w1eJRql0MzIBu5x4sxJYYS7hrXvRCO2')\n",
        "checkpoint = torch.load('/content/baseline.pt')\n",
        "model = Baseline(num_features_static, main_hidden_dim, dropout_rate)\n",
        "model.load_state_dict(checkpoint['model_state_dict'])\n",
        "model.eval()\n",
        "\n",
        "baseline_train_losses = checkpoint['train_losses']\n",
        "baseline_valid_losses = checkpoint['valid_losses']\n",
        "baseline_threshold = checkpoint['threshold']\n",
        "\n",
        "# Test\n",
        "num_samples = 3\n",
        "baseline_test_output = [np.array([]) for _ in range(num_samples)]\n",
        "baseline_test_y = [np.array([]) for _ in range(num_samples)]\n",
        "representations = pd.DataFrame()\n",
        "\n",
        "test_patient_list = fetch_data.test_patient_list\n",
        "num_batches_test = int(np.ceil(len(test_patient_list)/batch_size))\n",
        "test_dataset, test_loader = get_data_and_loader(test_patient_list, fetch_data, model_type, batch_size, shuffle=False)\n",
        "\n",
        "for m in model.modules():\n",
        "  if m.__class__.__name__.startswith('Dropout'):\n",
        "    m.train()\n",
        "\n",
        "for sample in range(num_samples):\n",
        "    for test_batch in tqdm(test_loader, total=num_batches_test):\n",
        "        x_static, y = test_batch[0][0], test_batch[1][0].unsqueeze(1)\n",
        "        output = model(x_static)\n",
        "        baseline_test_output[sample] = np.concatenate((baseline_test_output[sample], output.reshape(-1).detach().cpu().numpy()))\n",
        "        baseline_test_y[sample] = np.concatenate((baseline_test_y[sample], y.reshape(-1).detach().cpu().numpy()))\n",
        "\n",
        "# metrics to evaluate my model\n",
        "plot_losses(baseline_train_losses, baseline_valid_losses, 'baseline')\n",
        "\n",
        "# report standard error for uncertainty\n",
        "baseline_test_output_se = np.array(baseline_test_output).std(axis=0) / np.sqrt(num_samples)\n",
        "\n",
        "# take average over all samples to get expected value\n",
        "baseline_test_output = np.array(baseline_test_output).mean(axis=0)\n",
        "baseline_test_y = np.array(baseline_test_y).mean(axis=0)\n",
        "\n",
        "baseline_results = pd.DataFrame({'actual':baseline_test_y, 'pred_raw':baseline_test_output, 'pred_raw_se':baseline_test_output_se})\n",
        "baseline_results['pred_binary'] = (baseline_results['pred_raw']>baseline_threshold).astype(int)\n",
        "baseline_metric_results = calculate_metrics(baseline_results['actual'], baseline_results['pred_binary'], baseline_results['pred_raw'])\n",
        "print(baseline_metric_results)\n",
        "\n",
        "# plot figures to better show the results\n",
        "plt.plot(baseline_train_losses, label='Train')\n",
        "plt.plot(baseline_valid_losses, label='Validate')\n",
        "plt.title('Loss vs Epochs')\n",
        "plt.xlabel('Epochs')\n",
        "plt.ylabel('Loss')\n",
        "plt.legend()\n",
        "plt.show()\n",
        "plt.clf()\n"
      ],
      "metadata": {
        "id": "LjW9bCkouv8O",
        "colab": {
          "base_uri": "https://localhost:8080/",
          "height": 683
        },
        "outputId": "5536ba6e-ff7e-445d-ee55-b2d695bea06d"
      },
      "execution_count": null,
      "outputs": [
        {
          "output_type": "stream",
          "name": "stderr",
          "text": [
            "Downloading...\n",
            "From: https://drive.google.com/uc?id=15w1eJRql0MzIBu5x4sxJYYS7hrXvRCO2\n",
            "To: /content/baseline.pt\n",
            "100%|██████████| 16.9k/16.9k [00:00<00:00, 29.9MB/s]\n",
            "  0%|          | 0/32 [00:00<?, ?it/s]/usr/lib/python3.10/multiprocessing/popen_fork.py:66: RuntimeWarning: os.fork() was called. os.fork() is incompatible with multithreaded code, and JAX is multithreaded, so this will likely lead to a deadlock.\n",
            "  self.pid = os.fork()\n",
            "100%|██████████| 32/32 [00:00<00:00, 189.65it/s]\n",
            "100%|██████████| 32/32 [00:00<00:00, 56.14it/s]\n",
            "100%|██████████| 32/32 [00:00<00:00, 206.13it/s]\n"
          ]
        },
        {
          "output_type": "stream",
          "name": "stdout",
          "text": [
            "{'metric_auc_roc': 0.7423616531503197, 'metric_auc_prc': 0.24469842750122853, 'metric_f1': 0.3078584931136916, 'metric_recall': 0.6529209621993127, 'metric_mcc': 0.21566619661004827, 'metric_ts': 0.1819342483242898, 'metric_bss': -1.6441961381599373, 'true_negatives': 4727, 'false_positives': 2260, 'false_negatives': 303, 'true_positives': 570}\n"
          ]
        },
        {
          "output_type": "display_data",
          "data": {
            "text/plain": [
              "<Figure size 640x480 with 1 Axes>"
            ],
            "image/png": "[encoded data removed]"
          },
          "metadata": {}
        },
        {
          "output_type": "display_data",
          "data": {
            "text/plain": [
              "<Figure size 640x480 with 0 Axes>"
            ]
          },
          "metadata": {}
        }
      ]
    },
    {
      "cell_type": "markdown",
      "source": [
        "**Baseline Model Loss:**\n",
        "\n",
        "![image.png](data:image/png;base64,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)"
      ],
      "metadata": {
        "id": "TVnTHl0jQn2G"
      }
    },
    {
      "cell_type": "markdown",
      "source": [
        "## Model comparison"
      ],
      "metadata": {
        "id": "8EAWAy_LwHlV"
      }
    },
    {
      "cell_type": "markdown",
      "source": [
        "# GraphConv Graph model\n",
        "The GNN model using GraphConv layers for non-longitudinal data."
      ],
      "metadata": {
        "id": "cwYsM340QVD2"
      }
    },
    {
      "cell_type": "code",
      "source": [
        "# Declare data variables, loss function, and optimizer\n",
        "model_type = 'graph'\n",
        "gnn_layer='graphconv'\n",
        "pooling_method = 'target'\n",
        "main_hidden_dim=20 # used for both GNN and MLP\n",
        "lstm_hidden_dim=20 # x2 for bidirectional LSTM\n",
        "ratio = 0.5\n",
        "gamma = 1\n",
        "alpha = 1\n",
        "beta = 1\n",
        "delta = 1\n",
        "batch_size=250\n",
        "dropout_rate = 0.5\n",
        "learning_rate = 0.001\n",
        "\n",
        "fetch_data = DataFetch(model_type=model_type, featfile='featfile_G1.csv', gnn_layer=gnn_layer, alt_featfile='featfile_A2.csv')\n",
        "train_patient_list = fetch_data.train_patient_list\n",
        "validate_patient_list = fetch_data.validate_patient_list\n",
        "num_features_static = len(fetch_data.static_features)\n",
        "num_features_alt_static = len(fetch_data.alt_static_features)\n",
        "num_samples_train_dataset = len(train_patient_list)\n",
        "num_samples_valid_dataset = len(validate_patient_list)\n",
        "num_samples_train_minority_class = fetch_data.num_samples_train_minority_class\n",
        "num_samples_valid_minority_class = fetch_data.num_samples_valid_minority_class\n",
        "num_samples_train_majority_class = fetch_data.num_samples_train_majority_class\n",
        "num_samples_valid_majority_class = fetch_data.num_samples_valid_majority_class\n",
        "\n",
        "model = GNN(num_features_static, num_features_alt_static, main_hidden_dim, gnn_layer, pooling_method, dropout_rate, ratio)\n",
        "\n",
        "loss_func = WeightedBCELoss(num_samples_train_dataset, num_samples_train_minority_class, num_samples_train_majority_class)\n",
        "valid_loss_func = WeightedBCELoss(num_samples_valid_dataset, num_samples_valid_minority_class, num_samples_valid_majority_class)\n",
        "optimizer = torch.optim.Adam(model.parameters(), lr=learning_rate)\n",
        "\n",
        "train_dataset, train_loader = get_data_and_loader(train_patient_list, fetch_data, model_type, batch_size)\n",
        "validate_dataset, validate_loader = get_data_and_loader(validate_patient_list, fetch_data, model_type, batch_size)\n",
        "\n",
        "print('static_data: ', len(fetch_data.static_data))\n",
        "print('label data: ', len(fetch_data.label_data))\n",
        "print('True label: ', fetch_data.label_data.sum().item())\n",
        "print('False label: ', len(fetch_data.label_data) -fetch_data.label_data.sum().item())\n",
        "print('Train dataset: ', len(train_patient_list))\n",
        "print('Validate dataset: ', len(validate_patient_list))\n",
        "print('Test dataset: ', len(fetch_data.test_patient_list))"
      ],
      "metadata": {
        "id": "ZjOAiT9lQOJi",
        "colab": {
          "base_uri": "https://localhost:8080/"
        },
        "outputId": "0d54b901-2900-4557-b628-5a242b1bc12d"
      },
      "execution_count": null,
      "outputs": [
        {
          "output_type": "stream",
          "name": "stdout",
          "text": [
            "Using GraphConv layers\n",
            "static_data:  150000\n",
            "label data:  150000\n",
            "True label:  57297.0\n",
            "False label:  92703.0\n",
            "Train dataset:  27565\n",
            "Validate dataset:  3872\n",
            "Test dataset:  7860\n"
          ]
        }
      ]
    },
    {
      "cell_type": "markdown",
      "source": [
        "**Below training step is used to generate checkpoint file 'gnn-graphconv.pt'**\n",
        "<br>you don't need to re-run all other experiments, instead, you can directly refer the metrics/numbers in the paper"
      ],
      "metadata": {
        "id": "HV_6y09B-QM7"
      }
    },
    {
      "cell_type": "code",
      "source": [
        "# compare you model with others\n",
        "# start_time_train = time.time()\n",
        "# num_epoch = 100\n",
        "# num_batches_train = int(np.ceil(len(train_patient_list)/batch_size))\n",
        "# num_batches_validate = int(np.ceil(len(validate_patient_list)/batch_size))\n",
        "\n",
        "# # model training loop: it is better to print the training/validation losses during the training\n",
        "# train_losses = []\n",
        "# valid_losses = []\n",
        "# separate_loss_terms = {'NN_train':[], 'target_train':[], 'family_train':[], 'lstm_train':[], 'NN_valid':[], 'target_valid':[], 'family_valid':[], 'lstm_valid':[]}\n",
        "\n",
        "# model_path = raw_data_dir + 'drive/MyDrive/CS598 DLH/Project/gnn-graphconv.pt'\n",
        "# train_model_path = raw_data_dir + 'drive/MyDrive/CS598 DLH/Project/train-gnn-graphconv.pt'\n",
        "# graphconv_early_stopping = EarlyStopping(path=train_model_path)\n",
        "\n",
        "# for i in range(num_epoch):\n",
        "#   model.train()\n",
        "#   epoch_train_loss = []\n",
        "#   separate_loss_terms_epoch = {'NN_train':[], 'target_train':[], 'family_train':[], 'lstm_train':[], 'NN_valid':[], 'target_valid':[], 'family_valid':[], 'lstm_valid':[]}\n",
        "\n",
        "#   for train_batch in tqdm(train_loader, total=num_batches_train):\n",
        "#     x_static_node, x_static_graph, y, edge_index, edge_weight, batch, target_index = train_batch.patient_x_static, train_batch.x, train_batch.y.unsqueeze(1), train_batch.edge_index, train_batch.edge_attr, train_batch.batch, train_batch.target_index\n",
        "#     output, patient_output, family_output = model(x_static_node, x_static_graph, edge_index, edge_weight, batch, target_index)\n",
        "\n",
        "#     # combined loss that considers the additive effect of patient and family effects\n",
        "#     loss_term_NN = gamma * loss_func(output, y)\n",
        "#     loss_term_target = alpha * loss_func(patient_output, y)\n",
        "#     loss_term_family = beta * loss_func(family_output, y)\n",
        "\n",
        "#     separate_loss_terms_epoch['NN_train'].append(loss_term_NN.item())\n",
        "#     separate_loss_terms_epoch['target_train'].append(loss_term_target.item())\n",
        "#     separate_loss_terms_epoch['family_train'].append(loss_term_family.item())\n",
        "\n",
        "#     loss = loss_term_NN + loss_term_target + loss_term_family\n",
        "\n",
        "#     optimizer.zero_grad()\n",
        "#     loss.backward()\n",
        "#     optimizer.step()\n",
        "#     epoch_train_loss.append(loss.item())\n",
        "\n",
        "#   # eval on validset\n",
        "#   model.eval()\n",
        "#   epoch_valid_loss = []\n",
        "#   valid_output = np.array([])\n",
        "#   valid_y = np.array([])\n",
        "#   for valid_batch in tqdm(validate_loader, total=num_batches_validate):\n",
        "#     x_static_node, x_static_graph, y, edge_index, edge_weight, batch, target_index = valid_batch.patient_x_static, valid_batch.x, valid_batch.y.unsqueeze(1), valid_batch.edge_index, valid_batch.edge_attr, valid_batch.batch, valid_batch.target_index\n",
        "#     output, patient_output, family_output = model(x_static_node, x_static_graph, edge_index, edge_weight, batch, target_index)\n",
        "\n",
        "#     valid_output = np.concatenate((valid_output, output.reshape(-1).detach().cpu().numpy()))\n",
        "#     valid_y = np.concatenate((valid_y, y.reshape(-1).detach().cpu().numpy()))\n",
        "\n",
        "#     # combined loss that considers the additive effect of patient and family effects\n",
        "#     loss_term_NN = gamma * valid_loss_func(output, y)\n",
        "#     loss_term_target = alpha * valid_loss_func(patient_output, y)\n",
        "#     loss_term_family = beta * valid_loss_func(family_output, y)\n",
        "\n",
        "#     separate_loss_terms_epoch['NN_valid'].append(loss_term_NN.item())\n",
        "#     separate_loss_terms_epoch['target_valid'].append(loss_term_target.item())\n",
        "#     separate_loss_terms_epoch['family_valid'].append(loss_term_family.item())\n",
        "\n",
        "#     loss = loss_term_NN + loss_term_target + loss_term_family\n",
        "#     epoch_valid_loss.append(loss.item())\n",
        "\n",
        "#   train_loss, valid_loss = np.mean(epoch_train_loss), np.mean(epoch_valid_loss)\n",
        "#   train_losses.append(train_loss)\n",
        "#   valid_losses.append(valid_loss)\n",
        "\n",
        "#   for term_name in separate_loss_terms:\n",
        "#     separate_loss_terms[term_name].append(np.mean(separate_loss_terms_epoch[term_name]))\n",
        "#   print(\"epoch {}\\ttrain loss : {}\\tvalidate loss : {}\".format(i, train_loss, valid_loss))\n",
        "\n",
        "#   graphconv_early_stopping(np.mean(epoch_valid_loss), model)\n",
        "#   if graphconv_early_stopping.early_stop:\n",
        "#     print('Early Stopping')\n",
        "#     break\n",
        "\n",
        "# fpr, tpr, thresholds = metrics.roc_curve(valid_y, valid_output)\n",
        "# gmeans = np.sqrt(tpr * (1-fpr))\n",
        "# ix = np.argmax(gmeans)\n",
        "# auc_threshold = thresholds[ix]\n",
        "\n",
        "# pr_thresholds = np.arange(0.1, 0.9, 0.001) # between 0.1 and 0.9 to exclude trivial values like 0 and 1\n",
        "# scores = [metrics.f1_score(valid_y, (valid_output >= t).astype('int')) for t in pr_thresholds]\n",
        "# pr_ix = np.argmax(scores)\n",
        "# pr_threshold = pr_thresholds[pr_ix]\n",
        "\n",
        "# plot_losses(train_losses, valid_losses, 'graphconv')\n",
        "# plot_separate_losses(separate_loss_terms['NN_train'], separate_loss_terms['target_train'], separate_loss_terms['family_train'], 'graphconv', True)\n",
        "# plot_separate_losses(separate_loss_terms['NN_valid'], separate_loss_terms['target_valid'], separate_loss_terms['family_valid'], 'graphconv', False)\n",
        "\n",
        "# end_time_train = time.time()\n",
        "# torch.save({\n",
        "#     'epoch': num_epoch,\n",
        "#     'model_state_dict': model.state_dict(),\n",
        "#     'optimizer_state_dict': optimizer.state_dict(),\n",
        "#     'threshold': auc_threshold,\n",
        "#     'start_time': start_time_train,\n",
        "#     'end_time': end_time_train\n",
        "#     }, model_path)\n",
        "# you don't need to re-run all other experiments, instead, you can directly refer the metrics/numbers in the paper"
      ],
      "metadata": {
        "id": "uOdhGrbwwG71",
        "colab": {
          "base_uri": "https://localhost:8080/",
          "height": 609
        },
        "outputId": "00d42e26-14e4-4979-80a4-29e7d90312d9"
      },
      "execution_count": null,
      "outputs": [
        {
          "output_type": "stream",
          "name": "stderr",
          "text": [
            "\r  0%|          | 0/111 [00:00<?, ?it/s]/usr/lib/python3.10/multiprocessing/popen_fork.py:66: RuntimeWarning: os.fork() was called. os.fork() is incompatible with multithreaded code, and JAX is multithreaded, so this will likely lead to a deadlock.\n",
            "  self.pid = os.fork()\n",
            "100%|██████████| 111/111 [02:01<00:00,  1.34it/s]/usr/lib/python3.10/multiprocessing/popen_fork.py:66: RuntimeWarning: os.fork() was called. os.fork() is incompatible with multithreaded code, and JAX is multithreaded, so this will likely lead to a deadlock.\n",
            "  self.pid = os.fork()\n",
            "100%|██████████| 111/111 [02:01<00:00,  1.10s/it]\n",
            "100%|██████████| 16/16 [00:16<00:00,  1.05s/it]\n",
            "/usr/local/lib/python3.10/dist-packages/numpy/core/fromnumeric.py:3504: RuntimeWarning: Mean of empty slice.\n",
            "  return _methods._mean(a, axis=axis, dtype=dtype,\n",
            "/usr/local/lib/python3.10/dist-packages/numpy/core/_methods.py:129: RuntimeWarning: invalid value encountered in scalar divide\n",
            "  ret = ret.dtype.type(ret / rcount)\n"
          ]
        },
        {
          "output_type": "stream",
          "name": "stdout",
          "text": [
            "epoch 0\ttrain loss : 7.134208290426581\tvalidate loss : 4.1087020337581635\n"
          ]
        },
        {
          "output_type": "stream",
          "name": "stderr",
          "text": [
            "100%|██████████| 111/111 [02:07<00:00,  1.15s/it]\n",
            "100%|██████████| 16/16 [00:17<00:00,  1.09s/it]\n"
          ]
        },
        {
          "output_type": "stream",
          "name": "stdout",
          "text": [
            "epoch 1\ttrain loss : 4.139859311215512\tvalidate loss : 4.124679610133171\n",
            "EarlyStopping counter: 1 out of 5\n"
          ]
        },
        {
          "output_type": "stream",
          "name": "stderr",
          "text": [
            "100%|██████████| 111/111 [02:07<00:00,  1.15s/it]\n",
            "100%|██████████| 16/16 [00:17<00:00,  1.11s/it]\n"
          ]
        },
        {
          "output_type": "stream",
          "name": "stdout",
          "text": [
            "epoch 2\ttrain loss : 4.112498246871673\tvalidate loss : 4.036566853523254\n",
            "EarlyStopping counter: 2 out of 5\n"
          ]
        },
        {
          "output_type": "stream",
          "name": "stderr",
          "text": [
            "100%|██████████| 111/111 [02:08<00:00,  1.15s/it]\n",
            "100%|██████████| 16/16 [00:17<00:00,  1.11s/it]\n"
          ]
        },
        {
          "output_type": "stream",
          "name": "stdout",
          "text": [
            "epoch 3\ttrain loss : 4.047164906252612\tvalidate loss : 3.9392164796590805\n",
            "EarlyStopping counter: 3 out of 5\n"
          ]
        },
        {
          "output_type": "stream",
          "name": "stderr",
          "text": [
            "100%|██████████| 111/111 [02:07<00:00,  1.15s/it]\n",
            "100%|██████████| 16/16 [00:16<00:00,  1.05s/it]\n"
          ]
        },
        {
          "output_type": "stream",
          "name": "stdout",
          "text": [
            "epoch 4\ttrain loss : 3.9511228982392734\tvalidate loss : 3.8099250346422195\n",
            "EarlyStopping counter: 4 out of 5\n"
          ]
        },
        {
          "output_type": "stream",
          "name": "stderr",
          "text": [
            "100%|██████████| 111/111 [02:02<00:00,  1.11s/it]\n",
            "100%|██████████| 16/16 [00:16<00:00,  1.06s/it]\n"
          ]
        },
        {
          "output_type": "stream",
          "name": "stdout",
          "text": [
            "epoch 5\ttrain loss : 3.849997937142312\tvalidate loss : 3.741437718272209\n",
            "EarlyStopping counter: 5 out of 5\n",
            "Early Stopping\n"
          ]
        },
        {
          "output_type": "display_data",
          "data": {
            "text/plain": [
              "<Figure size 640x480 with 0 Axes>"
            ]
          },
          "metadata": {}
        }
      ]
    },
    {
      "cell_type": "markdown",
      "source": [
        "**Below training step is used to generate checkpoint file 'test-gnn-graphconv.pt'**\n",
        "<br>you don't need to re-run all other experiments, instead, you can directly refer the metrics/numbers in the paper"
      ],
      "metadata": {
        "id": "KxvyKe66J25x"
      }
    },
    {
      "cell_type": "code",
      "source": [
        "# metrics to evaluate my model\n",
        "# gdown.download('https://drive.google.com/uc?id=1-2UuB6VQQpc_GyMf3ekwxweiZw6xGilc')\n",
        "# gnn_checkpoint = torch.load('/content/gnn-graphconv.pt')\n",
        "# gnn_model = GNN(num_features_static, num_features_alt_static, main_hidden_dim, gnn_layer, pooling_method, dropout_rate, ratio)\n",
        "# gnn_model.load_state_dict(gnn_checkpoint['model_state_dict'])\n",
        "# gnn_model.eval()\n",
        "\n",
        "# gnn_threshold = gnn_checkpoint['threshold']\n",
        "# gnn_start_time = gnn_checkpoint['start_time']\n",
        "# gnn_end_time = gnn_checkpoint['end_time']\n",
        "\n",
        "# num_samples = 3\n",
        "# gnn_graphconv_test_output = [np.array([]) for _ in range(num_samples)]\n",
        "# gnn_graphconv_test_y = [np.array([]) for _ in range(num_samples)]\n",
        "# representations = pd.DataFrame()\n",
        "\n",
        "# test_patient_list = fetch_data.test_patient_list\n",
        "# num_batches_test = int(np.ceil(len(test_patient_list)/batch_size))\n",
        "# test_dataset, test_loader = get_data_and_loader(test_patient_list, fetch_data, model_type, batch_size, shuffle=False)\n",
        "\n",
        "# test_model_path = raw_data_dir + 'drive/MyDrive/CS598 DLH/Project/test-gnn-graphconv.pt'\n",
        "# for m in gnn_model.modules():\n",
        "#   if m.__class__.__name__.startswith('Dropout'):\n",
        "#     m.train()\n",
        "\n",
        "# for sample in range(num_samples):\n",
        "#   for test_batch in tqdm(test_loader, total=num_batches_test):\n",
        "#     x_static_node, x_static_graph, y, edge_index, edge_weight, batch, target_index = test_batch.patient_x_static, test_batch.x, test_batch.y.unsqueeze(1), test_batch.edge_index, test_batch.edge_attr, test_batch.batch, test_batch.target_index\n",
        "#     output, patient_output, family_output = gnn_model(x_static_node, x_static_graph, edge_index, edge_weight, batch, target_index)\n",
        "#     gnn_graphconv_test_output[sample] = np.concatenate((gnn_graphconv_test_output[sample], output.reshape(-1).detach().cpu().numpy()))\n",
        "#     gnn_graphconv_test_y[sample] = np.concatenate((gnn_graphconv_test_y[sample], y.reshape(-1).detach().cpu().numpy()))\n",
        "\n",
        "# torch.save({\n",
        "#     'epoch': num_samples,\n",
        "#     'test_output': gnn_graphconv_test_output,\n",
        "#     'test_y': gnn_graphconv_test_y,\n",
        "#     'threshold': auc_threshold,\n",
        "#     'start_time': gnn_start_time,\n",
        "#     'end_time': gnn_end_time\n",
        "#     }, test_model_path)"
      ],
      "metadata": {
        "colab": {
          "base_uri": "https://localhost:8080/"
        },
        "id": "IsX-946LFLH4",
        "outputId": "f9a12d9e-54a6-4c34-868a-910efe108c00"
      },
      "execution_count": null,
      "outputs": [
        {
          "output_type": "stream",
          "name": "stderr",
          "text": [
            "Downloading...\n",
            "From: https://drive.google.com/uc?id=1-2UuB6VQQpc_GyMf3ekwxweiZw6xGilc\n",
            "To: /content/gnn-graphconv.pt\n",
            "100%|██████████| 54.4k/54.4k [00:00<00:00, 4.63MB/s]\n"
          ]
        },
        {
          "output_type": "stream",
          "name": "stdout",
          "text": [
            "Using GraphConv layers\n"
          ]
        },
        {
          "output_type": "stream",
          "name": "stderr",
          "text": [
            "\r  0%|          | 0/32 [00:00<?, ?it/s]/usr/lib/python3.10/multiprocessing/popen_fork.py:66: RuntimeWarning: os.fork() was called. os.fork() is incompatible with multithreaded code, and JAX is multithreaded, so this will likely lead to a deadlock.\n",
            "  self.pid = os.fork()\n",
            "100%|██████████| 32/32 [00:34<00:00,  1.07s/it]\n",
            "100%|██████████| 32/32 [00:35<00:00,  1.11s/it]\n",
            "100%|██████████| 32/32 [00:34<00:00,  1.09s/it]\n"
          ]
        }
      ]
    },
    {
      "cell_type": "code",
      "source": [
        "gdown.download('https://drive.google.com/uc?id=1-UdB2BTBC2cK51yJp0HOgloLvW3M0lGw')\n",
        "gnn_graphconv_test_checkpoint = torch.load('/content/test-gnn-graphconv.pt')\n",
        "num_samples = gnn_graphconv_test_checkpoint['epoch']\n",
        "gnn_graphconv_test_output = gnn_graphconv_test_checkpoint['test_output']\n",
        "gnn_graphconv_test_y = gnn_graphconv_test_checkpoint['test_y']\n",
        "gnn_graphconv_threshold = gnn_graphconv_test_checkpoint['threshold']\n",
        "gnn_graphconv_start_time = gnn_graphconv_test_checkpoint['start_time']\n",
        "gnn_graphconv_end_time = gnn_graphconv_test_checkpoint['end_time']\n",
        "\n",
        "# report standard error for uncertainty\n",
        "gnn_graphconv_test_output_se = np.array(gnn_graphconv_test_output).std(axis=0) / np.sqrt(num_samples)\n",
        "\n",
        "# take average over all samples to get expected value\n",
        "gnn_graphconv_test_output = np.array(gnn_graphconv_test_output).mean(axis=0)\n",
        "gnn_graphconv_test_y = np.array(gnn_graphconv_test_y).mean(axis=0)\n",
        "\n",
        "gnn_graphconv_results = pd.DataFrame({'actual': gnn_graphconv_test_y, 'pred_raw': gnn_graphconv_test_output, 'pred_raw_se': gnn_graphconv_test_output_se})\n",
        "gnn_graphconv_results['pred_binary'] = (gnn_graphconv_results['pred_raw']>gnn_graphconv_threshold).astype(int)\n",
        "gnn_graphconv_metric_results = calculate_metrics(gnn_graphconv_results['actual'], gnn_graphconv_results['pred_binary'], gnn_graphconv_results['pred_raw'])\n",
        "\n",
        "print(gnn_graphconv_metric_results)\n",
        "print(\"Training duration: {} minutes\".format((gnn_graphconv_end_time - gnn_graphconv_start_time) / 60))\n",
        "# it is better to save the numbers and figures for your presentation."
      ],
      "metadata": {
        "colab": {
          "base_uri": "https://localhost:8080/"
        },
        "id": "k0--dp7KQ0Mt",
        "outputId": "9de661e3-05cc-4498-eb28-6f6d9810eb2b"
      },
      "execution_count": null,
      "outputs": [
        {
          "output_type": "stream",
          "name": "stderr",
          "text": [
            "Downloading...\n",
            "From: https://drive.google.com/uc?id=1-UdB2BTBC2cK51yJp0HOgloLvW3M0lGw\n",
            "To: /content/test-gnn-graphconv.pt\n",
            "100%|██████████| 440k/440k [00:00<00:00, 5.13MB/s]"
          ]
        },
        {
          "output_type": "stream",
          "name": "stdout",
          "text": [
            "{'metric_auc_roc': 0.7561574424503961, 'metric_auc_prc': 0.2501534301041718, 'metric_f1': 0.3313351498637602, 'metric_recall': 0.6964490263459335, 'metric_mcc': 0.25146318920227423, 'metric_ts': 0.19856303069888961, 'metric_bss': -0.9507165553766375, 'true_negatives': 4798, 'false_positives': 2189, 'false_negatives': 265, 'true_positives': 608}\n",
            "Training duration: 14.372869650522867 minutes\n"
          ]
        },
        {
          "output_type": "stream",
          "name": "stderr",
          "text": [
            "\n"
          ]
        }
      ]
    },
    {
      "cell_type": "markdown",
      "source": [
        "**Loss:**\n",
        "\n",
        "![image.png](data:image/png;base64,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)"
      ],
      "metadata": {
        "id": "sA_V4mAuQNfi"
      }
    },
    {
      "cell_type": "markdown",
      "source": [
        "**Separate Training Loss:**\n",
        "\n",
        "![image.png](data:image/png;base64,iVBORw0KGgoAAAANSUhEUgAAAokAAAHqCAYAAABoX9RIAAAAAXNSR0IArs4c6QAAAARnQU1BAACxjwv8YQUAAAAJcEhZcwAADsMAAA7DAcdvqGQAAFrvSURBVHhe7d0JYFTV2f/xJzPZycIiECCIKPu+hc1WUdx9VWytVmld6lKtWm1rff90UWr1xfatrVvrWrVWLW4F+1o33KsoCQRk31SWsCOQkD2ZzP8+Z84Nkw2CzCSzfD/p6T333DuTMIyZH+ece27CqFGj/A5pycGOAQCANuD3SXVFhVRU1UidbRJvsqSkpkpaslcSbBPQWgkJLb9r3GMJI0eObJICWwqGBEYAANpYXY1UlJVKpT9Z0p1QmJTkkQR/ndTUVEplebUkpGVKRmoiQRGH1FIwbLE9OCQ2DoGtCYUERwAAwsUvtRX7pdSXIpkdUsTb6LPc76uUsv3V4s3IlLTEBPuZnOB86AeO6+MDTU5boEE/uJ1W03TgmFOpq/OJeLziaRIYnPOdYz6/R7weJ6A299zm8X5J8DrHAwfRzg7WU+hqfE7jfW9OTs5MrQSHva8TFltCiAQA4Gvy10hlWZUkpnWQZK9tC5aQ6AS0CqmoS5RUJyRWlxXLflP3mMP+mnIp3l8mkpgqtklqK/dJSY1XUr11Ul68X3xOrKsqL5XyymqpqqyUWkmSZOe5jLpqqSjdL2UV1VJdVSWVlbXOcyUFnsv52dzHV5aWSoVzPCEptUmQRXi0JgS25GDhMLju0RDnBrnm6s3tH04BAABfk69Oqp3Q5m0uIFpeb5JIpc8JdwlOfkt06jVSYz5+/VJTUy0ej8dpqjG9hxrsairFCZzOefo57TRVOicnZ3SUjh2zJTMtyQmRVVKtEx/9tVJVVi61SRmS3VGPd5SsdI9Ul5bb4/bx1T5JzsyS7OwsSbZBFOHXXOZqTWn82OD9xvWEESNGmJrbsHTpUrMFAABAfHDyoNk26EnU/wtOjwAAAIgvzWVBM9ysCIgAAADxq3EmpCcRAAAgzjXOgrqlJxEAAABNgiI9iQAAAHGuuSxYf7E6AREAACB+BWdBrdcPNyuCIgAAQPxpLg82GG4GAABA/ArOhAw3AwAAoEkWrA+JiqAIAAAQfxpnQN1vMCcRAAAA8c3Nhg16EgEAAABFSAQAAEAT9Vc3M+wMAAAQvxrnQS5cAQAAiHPNZUCGmwEAANAEIREAAABNEBIBAADQhKe2tlZ8Pl99AQAAQHwJzoKaDbV4EhMTxev11hcAAADEl+AsqNlQC8PNAAAAaIKQCAAAgCYIiQAAAGiCkAgAAIAmCIkAAABogpAIAACAJgiJAAAAaIKQCAAAgCYIiQAAAGiCkAgAAIAmCIkAAABogpAIAACAJgiJAAAAaIKQCAAAgCYIiQAQoy6//HLJyMiwewBweAiJAA7bU089JQkJCbJw4ULbEp80hOnr0FxJTU21ZwFAdCIkAsARSElJkb///e9NypNPPmnPAIDoREgEgCOQmJgo3/ve95qUiy++2J4BANGJkAggbBYvXixnnnmmZGVlmblxU6dOlU8//dQeDaipqZHf/OY30r9/fzNE26VLF/nGN74h8+bNs2eIbN++Xa644grJzc01PXc9evSQ8847TzZs2GDPaOoPf/iDGfbduHGjbTlgxowZkpycLHv37jX769atk29/+9uSk5Njfgb9Pt/97neluLjYHD9S7vD8hx9+KD/84Q/Nn1Ffk0svvbT+Zwj2l7/8RYYOHWr+rD179pTrr79e9u3bZ48esGDBAjnrrLOkU6dO0qFDBxkxYoTcd9999ugBW7ZskWnTppm/g65du8ott9wiPp/PHg2YPXu2jB07VjIzM83PNnz48GafC0D8ICQCCIsVK1bIN7/5Tfnss8/k1ltvlV//+tfy5ZdfypQpU0y4cc2cOdOExJNOOkkefPBB+eUvfylHH320FBYW2jPEBLg5c+aYoKgB6sc//rHs379fNm3aZM9o6sILLzTB7IUXXrAtB2jbaaedZsJVdXW1nH766Sa83njjjfLnP/9ZrrnmGvniiy+aDWbN2b17d5NSUlJijx5www03yKpVq8yfWQPis88+a8Kb3++3ZwReDw2FGg7vuece82d/5JFHzM+rgdqlIfqEE06QlStXyk033WTO1dfw1VdftWcEaBjUP58GUw3OJ554ojn30UcftWcEnkt7PvX1+N3vfid33323+Xv6+OOP7RkA4tKQIUP8gwcP9g8aNMg/cOBA53cVABzck08+qanGX1BQYFuacsKPPzk52f/555/bFr9/69at/szMTL8TbmyL3z9y5Ej/2Wefbfea2rt3r/le//u//2tbWm/SpEn+sWPH2r2A/Px883xPP/202V+8eLHZf/HFF83+4bjsssvMY5srTjCzZx14vfRncUKpbfX7f//735v2V155xezv3LnTvGZOIPQ74c60KSc8m/OeeOIJs19bW+vv27evv0+fPub1CVZXV2drB36+O+64w7YEjB49usHr4oRMf1ZWlnleAPFJM6BmQc2Emg2HDh3qpycRQMhp79Vbb71lesmOPfZY2ypmmPiSSy6Rjz76qL6nrWPHjqbXUYd8m5OWlmaGht9///1mh2YP5qKLLpJFixaJE1Rti8jzzz9vhnF1uFplZ2eb7Ztvvinl5eWmfjh0eFp74hoX7Y1rTHsok5KS7J7IddddZ+Y0vvbaa2b/7bffNj2bN998s3g8B349X3311WYI+N///rfZ12F87ZXV8/T1C6a9p41de+21thagPbzaU+rS5ygrKzM/NwC4CIkAQm7Xrl0mcDn/MrUtBzj/SpW6ujrZvHmz2b/jjjvMsO6AAQPMPLif//znsnTpUnNMaaDTIdDXX39dunfvboZYf//735t5iofyne98x4QtDYbK+ceyvPjii/XzJFXfvn3lpz/9qTz++ONy1FFHmaFZHXJu7XxEr9crp5xySpMyatQoe8YBOu8ymM4R1ODszq105082ft00JGvYdo+7oXfYsGFmezAaYnUeYjAdVg4O3D/60Y/M66+vi87H/MEPfiBvvPGGPQogXhESAbQrDX0aep544gkTejSsjRkzxmxd2mO2du1amTVrlgk9Or9Rw6b2qB2MzuvTXjN3XqLOO9R5jNrDGEzn6Gkw/cUvfiEVFRVmzqNeOFJUVGTPiF4aYg+lW7dusmTJEvnXv/4l5557rrz33nsmMF522WX2DADxiJAIIOS05yo9PV3WrFljWw5YvXq16d3r3bu3bRHp3LmzuSjlH//4h+lh1Kt09QKOYMcdd5z87Gc/M8PYy5cvN8OyGu4ORQOhXjyjP4v2KOrPdc4559ijB2gv5q9+9StzBfJ//vMfc0Xwww8/bI+GRuMh9dLSUtm2bZscc8wxZr9Pnz5m2/h10z+rDi+7x/W1UPo6hIr2VurrohcGaWjXq7CffvppWb9+vT0DQLwhJAIIOe290qtxX3nllQbL1OzYsUOee+45s8SNO9z71Vdfma1Lh2D79esnVVVVZl+HrSsrK03dpSFJl2pxzzkYvTpYfx4NoDrU/F//9V9muRiXzo2sra21ewEaGDXItub5D4deURx8hfJDDz1kvrf22ikdptawdv/99ze44vmvf/2rGf4+++yzzb72tOow+b333tvkCuzgx7VW478D/bNrUFehfg0ARI8EvYJFf6m4Rf+VDwAHo+v+ac+fXnihQ7qN6ZIsOqw7YcIEc1GEznnTCzR0KRftofvggw/MMaXzDHW5FV2jT3sU9VZ/GqZ0uRgNSzoMqusr6pI2zu8r8zy6HI5eZPHSSy+ZEHgop556qll2R5fNefnll+Vb3/qWPSIyd+5c8710/qLOy9PQpndM0e+rvYoTJ060Zzalt+XT9QWDh8aDnX/++SaQuq+Xhk99PfTPor2F2ms3efJk833cC07cJYE0ZOvQr3ueBkNdksa98EUvtNGeP3399bl1bqP+/taLgPSY0p9PXyPtsQzmfg83UOrPuWfPHjn55JPNnESd+/jAAw+YHk698Cf4IhoAsWnQoEHm91BwYQkcAIfNXdKlpbJ582ZzXmFhoVkKJiMjw5+enu4/6aST/PPnzzfHXHfeead//Pjxfic8+dPS0szvorvuuqt+qZjdu3f7r7/+etPuBC5/dna23wmY/hdeeMEcb43HHnvM/Fy6/E5FRYVtDfjiiy/8P/jBD/zHHXecPzU11e8EVfNzvv322/aMlh1sCRwtX375pTnPfb2ccOy/5ppr/J06dTKvyfTp0/1fffWVOSeYLnmjf14nEPqdEO13wniTpW7URx995HcCsPlz6WszYsQIvxPu7NHAz6ftjd1+++3m53E5QdIsu9OtWzezBM/RRx/t/+EPf+jftm2bPQNArGtuCZwE51/O+suiviexpWUoAABfj9uTWFBQIOPGjbOtABA5dPWF+h5Eh249OnSj83XcAgAAgPgSnAU1G2phogkAAACaICQCAACgCa5uBgAAiHODmrm6mZ5EAAAANEFIBAAAQBOERAAAADTBnMQQqqurk61bt5rbhelYPgAAiHyaf/SOTHoHo3i9w1BzcxIJiSFUVFQkvXv3tnsAACCabN682dyaMh4REsNMb8Cv92XVN1lWVpZtBQAAkaykpMR08uzbt0+ys7Nta3whJIaZvsn0zaVhkZAIAEB04PObJXAAAADQSoREAAAANEFIBAAAQBPMSQwh5jQAQPzRz87a2lrx+Xy2BZHG6/VKYmKimWfXHD6/uXAl7HiTAUB8qa6ulm3btkl5ebltQaRKT0+XHj16SHJysm05gM9vQmLY8SYDgPihN1BYt26d6aXq2rWrCR/6wYrIotlGw/yuXbtMb2///v2bLJjN5zchMex4kwFA/KisrJQvv/xS+vTpY3qpENm0t3fjxo3St29fSU1Nta0BfH6zBA4AACEXr7dxizb8PR0+XjEAAAA0QUgEAABRZ8qUKXLzzTfbPYQDIREAgDhz+eWXmzlnd999t20JmDt3rmlvrWOOOUbuvfdeu4dYQ0gEACAO6cUbv/vd72Tv3r22JTrolcpoG4TEKPDRxg9k5jsz5N0v5tkWAACOzCmnnCI5OTkya9Ys29LURx99JN/85jclLS1NevfuLT/+8Y+lrKzMHNPhXr1a+Cc/+Un91bC6SoouB/TSSy+Zc9SoUaPM+oQufc6UlJT6tSU3bdok5513nmRkZJgriy+88ELZsWOHOaZmzpxpnuPxxx9v9spk17///W9zhfKzzz5rW3CkCIlRYM3uVVKw8SP52AmLAIDIpAGporq2XYp+78Ol6zv+z//8jzzwwANSVFRkWw/4/PPP5YwzzpBvf/vbsnTpUnn++edNwLvhhhvM8X/+85+Sm5srd9xxh1lQXIsGxRNOOEHef/99c472Uq5atUoqKirql9j74IMPJC8vzywbpGtNakDcs2ePaZ83b5588cUXctFFF5lzXevXr5eXX37ZfM8lS5bY1gOee+45ufjii01AnD59um3FkWKdxBAK1zpLy3Z8Jv/v3zdIenIHmX3Jv8Xr8dojAID24q6T6PZuaVg7eea/7dG29e7MsyUtOdHuHZrOSdy3b5+Zgzhp0iRxsoD89a9/Nfvnn3++yQNXXXWVCZKPPPKIfVSgF/DEE080vYn6Z9Y5iXrxSPAFJBo69THLly+XV155xfRUao+lBs5rr71WTj31VBk/frzcddddJhSeeeaZ5nXUnkq1cuVKGTp0qOTn55swqT2JGma3bNlieild2pOpPYy6OPYvf/lL8730Z2tJ47+vYKyTyDqJUWtw16HOf/wdpLy6TFbtWmFbAQA4cjov8W9/+5vp8Qv22WefyVNPPWWGgd1y+umnm94/DVst0aCmQU/vcKK9gxrmtGjvYk1NjcyfP9/sK/2eGg7dgKg0sHbs2LHBz6MLlgcHRJcOa+twt4bNgwVEfD30JIZQOP8l8pt3fyH5G/4jF4z6vlwx5hrbCgBoL417pvQztLLGZ4+2rdQkr+n5aa3gnkR19tlnS1JSkml3exIHDx5sev10HmJjRx99tLkNYXM9ifpYDXQPP/yw6UXUHkPtSdQeQx0y1oCow9AdOnSQ+++/X/70pz81CZ2dOnWS++67Ty699FLTk6g/Z+NhZn2ezMxMKSwslHPPPVf+8pe/HPQ1oCfx4OhJjGJ5vSaa7cLNn5otACCy6IeqDvm2R9HvfSR0KZz/+7//k08++cS2iIwZM8b0CPbr169J0YCodKv3Qw6mP4te7KLDvytWrJBvfOMbMmLECKmqqjLD0OPGjTMBUWkQ3bx5syku/Z4aYLVH8VCOO+44ee+998z3uvHGG20rQoWQGCXG955kthu/Wi97K6NruQIAQGQbPny4ueBDe/Zc//3f/22GhvVCFe3FW7dunQlj7oUrSnsSP/zwQzNfcPfu3bY10Mv3j3/8w8wZ1GFqvSWeXtCiF5YEDwvrFdbu99YeQZ2HqL2Heo6GydYYMGCACYraS8ni2qFFSIwSR6V3ldxOx4jf+VpYtMC2AgAQGnqVss43dGnvn84pXLt2rekZHD16tNx2223Ss2dPe0bgMRs2bDA9esFzBjXkaQ+jO/dQab1xm/Y6avDU4WUNkRoajz32WHMl9eEYOHCgvPvuuyaY/uxnP7OtOFLMSQyhcM9peLjgAfm/ZS/I8cedLL848Te2FQDQHg42xw2RhzmJB8ecxCg3IXey2X62ZZHU+Q/8aw8AACDUCIlRZFi3EZKSmCqllcWydvca2woAABB6hMQokuRNkqE9Rpt6ftF8swUAAAgHQmKUGZc7wWwXbck3WwAAgHAgJEYZd17i57tWS0lViakDAACEGiExyuRk9pCc7Fzx++tk0VZ6EwEAQHgQEqPQmNzxZltQdGBlfAAAgFAiJEah8bmBu68sKSowa1sCAACEGiExCo3MGS1J3mQprtgrn+9ZZ1sBAABCh5AYhZK9KTI4Z6Sp5zPkDAAAwoCQGKXyciea7aIt3McZANA6jW+71rjMnDnTntn29PvPnTvX7iESEBKjlDsvce2OlVJWXWrqAAAczLZt2+rLvffea+5THNx2yy232DNbp7q62tYQiwiJUSo3u7d0zewhdX6fFG5baFsBAGhZTk5OfcnOzja9d+5+WVmZTJ8+Xbp37y4ZGRmSl5cnb7/9tn1kwDHHHCO//e1v5dJLLzUB85prrjHtjz32mPTu3VvS09Pl/PPPlz/+8Y/SsWNHc8z1yiuvyJgxYyQ1NVWOPfZY+c1vfiO1tbXmmD6v0sfqz+Tuo30REqPY6PqlcD41WwBAO/L7xV9d1i5Fv/eRKi0tlbPOOkveeecdWbx4sZxxxhlyzjnnyKZNm+wZAX/4wx9k5MiR5pxf//rX8vHHH8u1114rN910kyxZskROPfVUueuuu+zZAf/5z39MsNRzVq5cKY888og89dRT9ecVFBSY7ZNPPml6NN19tK+EIUOG+HUZFbesXr3aHsLhKikpMf8yKy4uNv/CCrdPNn8kd86bIZ07dJWnL3zZ/OsLANA2Kisr5csvv5S+ffua3jENa6WzArdObWsZMxZIQnIHu9c6GtJuvvlm2bdvn21patiwYSYA3nDDDWZfe/hGjx4tc+bMMfvqu9/9rgmYr776qm0R+d73vmf23ec+5ZRTZOrUqTJjxgyzr5555hm59dZbZevWrWZfP8P0eadNm2b2Q63x31ewtv78jkSDBg0yfwfBxaNdvT6fr74geozKGSOJniTZU7ZLNu3bYFsBADh8GvR0TuLgwYPNULEOOa9atapJT+K4ceNsLWDNmjUyfnxgZMvVeP+zzz6TO+64wzynW66++mrTa1heXm7PQnsKzoKaDbXQkxhC7fEvkVtf/7Gs2LZYLs27Vi4aPt22AgDCrUnPlH6O1rRP4ElISteuOLvXOo17ErXHcN68eWY4uV+/fpKWliYXXHCBTJkyxVzkorQnUR+jxaU9izqX8LbbbrMtIvfff7/Zd59bn0vnIH7rW98y+8F0fqLH4zE9V/Qktp9mexLtsZh29913mz9s8Ju6OS+++KJ5kfTNM3z4cHnttdfskcg1zl0Kp4ilcACgXekHa3KHdin6vY+Uzi28/PLLTeDTz0C9mGXDhkOPUg0cOLDJHMLG+3rBivY4avhsXDQgqqSkJEY0I0zMh0R9o+oE2REjRtiW5s2fP18uvvhiufLKK81kXP2XjJbly5fbMyLTBLsUzuody6Sinf4FCwCIfv3795d//vOf5uITHR6+5JJLpK6uzh5t2Y033mg6VfSK5nXr1pnP3Ndff910zri0V/Hpp582vYkrVqwww9izZ8+WX/3qV/aMQC+lXjSzfft22bt3r21Fe4rpkKjzK/Ryfr00v1OnTra1effdd5+5kuvnP/+5mY+hl/jrv3wefPBBe0ZkOrrjMebCFV9drSzZXmhbAQA4PBry9LNy8uTJ5qrm008/3XwOHsrxxx8vDz/8sHm8XvX8xhtvyE9+8pMGQ7r6XHohy1tvvWWW1pk4caL86U9/kj59+tgzRO655x4z3K1L6egQNtpfTM9JvOyyy6Rz587mjahzKkaNGlU/r6Kxo48+Wn760582GJK+/fbbzerv+i+q5lRVVZni0jkN+uZu6zkNf/z4bnlnzb/ltMHnyU2TDm8hVADA13OwOW7xTi9K0TyhS99ECuYkHlxczUnUbuzCwkKZNWuWbTk47d7WBUSD6b62t0SfW99UbtGA2B7cW/QtZl4iAKAd6MUu2qGyfv16eeCBB+Rvf/ub6ahBdIvJkLh582azYOezzz4b1n/d6XpP+q8Ot+j3bQ9je+aJJ8Eru/Zvl6Li9vkZAADxKz8/3yyirRe86NCzXt181VVX2aOIVjEZEhctWiQ7d+40cykSExNN+eCDD8ybVuvNXT2lV3Ht2LHD7gXovra3JCUlxXRLB5f2kJ7UQQZ0H2Lq+UWfmC0AAG3lhRdeMJ+7FRUV5sIUXU4H0S8mQ6Ku6r5s2TJzhZZbdPFPvYhF616v1555wKRJk8xVVcF0Aq22R4OxvQKr/HOLPgAAEAoxGRIzMzPNrYSCS4cOHaRLly6mrvQeksG3B9Lhab0iS6+u0sm2M2fOlIULF9bfiijSjbdL4aza/plU+w5cTAMAAPB1xOyFK4eitxnS2wG59JL/5557Th599FFzCf9LL71krmx2Q2WkO65zf8lO6yw1vmr5bNti2woAAPD1xE1IfP/99xssf6P7ekuiYN/5znfMivC6rI0uon3WWWfZI5FPL1UflZtn6vlbmJcIAACOTNz2JMYidymcwqJ8swUAAPi6CIkxZGzP8ZKQ4JHtxUWyff+BoXQAAIDDRUiMIVkpWXJc10GmvqBovtkCANDe9L7MwVO+dIqUzvtHZCMkxpixvcab7UKWwgEAtODyyy+vv/VacNE7poRDQUGBXHPNNXYP0YKQGGPG955stiu2LZEaX42pAwDQ2BlnnGFW+Qguel/jcOjataukp6fbPUQLQmKMGdBloGSkZktVbaUs37nUtgIA0JDeNUzvKhZc7rvvPnNrPV1buHfv3vKjH/1ISktL7SPErArSsWNHefXVV2XgwIEm+F1wwQVSXl5u7tesw8qdOnWSH//4xw3ubtZ4uDnYySef3GRN4l27dklycnKTm1ygbRESY4wnwSMje401deYlAkDb8fv9UlFT3i5Fv3coeDwecwtbvbWehr53331Xbr31Vns0QAOhnjN79mxzEwpdUu7888+X1157zZS///3v8sgjj5j1hltD7/Gs6xTr8nOuZ555Rnr16mUCJNpPwpAhQ5z3lt+8wbTo3Ubw9ZSUlEh2drYUFxe3232c1bz1b8i9H94luZ2OkUfO/7ttBQCEUmVlpXz55ZdmiDY1NdWEtQv+fro92rZe+v6bkpbU+uFcnZOoQUx/bteZZ54pL774ot0L0KCn92HevXu32deexCuuuMLMXTzuuONMmx7XYLhjxw7JyMgwbTqUrb2HDz/8sNnX+s0332yK0vmPc+bMkWnTppnXsWfPnubcCy+80BzXm1p861vfkttvv93sh0Ljv69gkfL53Z4GDRrUZI4qPYkxSNdLdP56pWjvBtlVttO2AgBwwEknnSRLliypL9o7+Pbbb8vUqVNNL57e4vb73/++fPXVV6b30KVDzG5AVN27dzch0A2IStt27mzd548GNv0+TzzxhNkvLCw0N7TQIIv2RU9iCEXSv0Ru+NeV8uXutXL98T+Xswaea1sBAKHSuGdKP0Mrayvs0baVmphmen5aSwPYvn37GixDs2HDBtObdN1118lFF10knTt3lo8++kiuvPJK2bt3r5mLqD2J2huoj3XNnDnTPI8GTVfj5z9YT6JatmyZjBo1SjZu3Ci/+93vTBaZN2+eORYq9CQeHD2JcWRs7gSzLdjCUjgA0Bb0Q1WHfNuj6Pc+UosWLZK6ujq55557ZOLEiTJgwADZunWrPRpeerHMuHHj5LHHHjPzE3/wgx/YI2hPhMQYldcrcIu+ZVsLpbau1tQBAGhJv379pKamRh544AH54osvzDxDd05hW9ALWO6++27TI6sXwqD9ERJj1OCuQyU9uYNUVJfJql0rbCsAAM3Ti0X++Mc/muHeYcOGybPPPiuzZs2yR8Pv4osvlsTERLNtPByM9sGcxBCKtDkNv33vV/Lplx/I+SMukavGXWdbAQChcLA5bjh8OidSL4jRu7OMGTPGtoYOcxIPjjmJccYdci7cssBsAQCINDrEvX37dvnVr35l5kKGIyDi6yEkxjBdCkdt/Opz2VOxx9QBAIgkH3/8sfTo0cP0ILblHEgcGiExhnVJP0p6dz7W1AuKuMoZABB5pkyZYqa7rVmzxlzljMhBSIxxLIUDAAC+DkJijHPnJS7dslB8dQdutg4AAHAwhMQYN7T7cElNSpeyqv2yZjdXrgNAqOlQKSIff0+Hj5AY45I8STKsx2hTz9/yidkCAI5cUlKS2Qbf1xiRy/17cv/ecGiskxhCkbrO0v+tniMPz/+jHNt1oDxwzuO2FQBwpLZt22buUdytWzdJTw/N7fEQWpptNCDu3LnT3H9ar6RujHUSm18nkZAYQpH6JttZukOueOEC5y/cI89e/C/JTs22RwAAR0I/N3WNPw2KiGwaEHNyckz4aYyQSEgMu0h+k139z+mydd8m+dmU2+TkY0+1rQCAUPD5fGZRaEQmHWL2er12rylCIiEx7CL5TfZQ/v3y6vIX5Zv9TpH/d8LtthUAABASuS1fXBtv776ypKhA6vx1pg4AANASQmKcGN59lCQnpsj+ymJZ/9U62woAANA8QmKcSPYmy9CcUaZewFI4AADgEAiJcWSsHXJeWLTAbAEAAFpCSIwj7rzE9TtXSWn1flMHAABoDiExjvTKypXuWb2kzu+Twq0LbSsAAEBThMQ4Mzo3z2zzi5iXCAAAWkZIjDPjcyeZ7eKifLMuJgAAQHMIiXFmVM4YSfImy77yr2TD3i9sKwAAQEOExDiTkpgqg3KGm/oChpwBAEALPLW1teaek25B7BvXyy6Fs+VTswUAAPEtOAtqNtTiSUxMNDe9dgtin7sUztodK6SiptzUAQBA/ArOgpoNtTDcHId6Z/eRLhndxFdXK4XbWAoHAAA0RUiMQwkJCTImd4KpFxQx5AwAAJoiJMapPDvkXFi0gKVwAABAE4TEODWmxzjxerzyVelO2Vy8ybYCAAAEEBLjVFpSugzoNszUufsKAABojJAYx8bZIWeWwgEAAI0REuOYuxTO6u3LpKq20tQBAABUTIbEhx56SEaMGCFZWVmmTJo0SV5//XV7tKmnnnrKXPEbXFJTU+3R2NW303HSMb2L1PiqZcn2QtsKAAAQoyExNzdX7r77blm0aJEsXLhQTj75ZDnvvPNkxYoV9oymNExu27atvmzcuNEeiV0ahkfnjjd1lsIBAADBYjIknnPOOXLWWWdJ//79ZcCAAXLXXXdJRkaGfPppy0FIA1NOTk596d69uz0S2w4shZNvtgAAACrm5yTqPQhnz54tZWVlZti5JaWlpdKnTx/p3bv3IXsdY8nYnnniSfDKjpItsqWkyLYCAIB4F7MhcdmyZab3MCUlRa699lqZM2eODBkyxB5taODAgfLEE0/IK6+8Is8884zU1dXJ5MmTpajo4KGpqqpKSkpKGpRok5GcKcd1HWTqDDkDAABXzIZEDX5LliyRBQsWyHXXXSeXXXaZrFy50h5tSHsYL730Uhk1apSceOKJ8s9//lO6du0qjzzyiD2jebNmzZLs7Oz6or2Q0Sivt10Kh5AIAACsmA2JycnJ0q9fPxk7dqwJcyNHjpT77rvPHj24pKQkGT16tKxfv962NG/GjBlSXFxcXzZv3myPRJe8XoFh+BXbl0i1r9rUAQBAfIv5OYkuHULW4eHW0HmMOlzdo0cP29I8Hcp2l9lxSzTq16W/ZKZmS3VtlSzbscS2AgCAeBaTIVF7+D788EPZsGGDCXu6//7778v06dPNcR1a1jbXHXfcIW+99ZZ88cUXUlhYKN/73vfMEjhXXXWVPSO2eRI8Mio3z9TzGXIGAACOmAyJO3fuNEFQ5yVOnTpVCgoK5M0335RTTz3VHN+0aZNZC9G1d+9eufrqq2Xw4MFm6Ry9AGX+/PktXugSi9wh58KiBWYLAADiW4IThPwOccvq1avtIRwuDZd6AYvOT4y2oefiymKZ/o9znfdAnTx54UvSLSM+1okEACCaP79DZdCgQfV3nXNL3MxJxMFlp2ZL36P6m3p+0SdmCwAA4hchEfXG9ppgtqyXCAAACImoNz53stku37ZYaupqTB0AAMQnQiLqDTxqkHRIyZTKmnJZuXO5bQUAAPGIkIh6Xo9XRvQaZ+rMSwQAIL4REtFAXq/ALfpYCgcAgPhGSEQDebmBi1c27flC9lR8ZeoAACD+EBLRQOe0LtKny3Gmnr+ZIWcAAOIVIRFNjHGXwtnCkDMAAPGKkIgmJvQOLIWzdOtC8dX5TB0AAMQXQiKaGNx1qKQlpUt5Vams3r3StgIAgHhCSEQTiZ5EGdZzjKmzFA4AAPGJkIhmjc+dZLaLWAoHAIC4REhEs/JyA+slbti9TvZV7jN1AAAQPwiJaFbXDt0kt9Mx4ne+Coo+ta0AACBeEBLRotG548124RZCIgAA8YaQiBaN7xWYl7hky0Kp89eZOgAAiA+ERLRoePeRkpKYKqWVxbL2qzW2FQAAxANCIlqU5E2SoT1GmXoBS+EAABBXCIk4qHH2KueFLIUDAEBcISTioNz1Ej/ftVpKqkpMHQAAxD5CIg6qR2ZPycnOFb+/Tgq3FthWAAAQ6wiJOKQxdikcbtEHAED8ICTikOqXwikqEL/fb+oAACC2ERJxSCN7jJYkb7IUV+yRz/ess60AACCWERJxSMneFBmcM9LUC7j7CgAAcYGQiFYZlzvBbBexFA4AAHGBkIhWmZA72WzX7lwh5TVlpg4AAGKXp7a2Vnw+X30BmpOb3Vu6ZuaIr84ni7YutK0AACAWBGdBzYZaPImJieL1eusL0JLRdsiZW/QBABBbgrOgZkMtDDej1cbbW/QtLspnKRwAAGIcIRGtNipnjHg9ibKnbJdsKt5gWwEAQCwiJKLV0pLSZVD34aa+YDNDzgAAxDJCIg7LWHcpnC0shQMAQCwjJOKwTLRL4azevkwqaytMHQAAxB5CIg7L0R2Pkc4dukptXY0s3rbItgIAgFhDSMRhSUhIkFG5eaZeUMQt+gAAiFWERBy28bmTzLawKN9sAQBA7CEk4rCN6TFOPAle2bV/mxQVb7atAAAglhAScdg6JGfIgO5DTD2fu68AABCTCIn4Wsb2CiyFs5ClcAAAiEmERHwt7rzEVds/k2pflakDAIDYQUjE13Jc5/6SndZJqmur5LPti20rAACIFYREfC0shQMAQGwjJOJry7NDzouKmJcIAECsicmQ+NBDD8mIESMkKyvLlEmTJsnrr79ujzbvxRdflEGDBklqaqoMHz5cXnvtNXsELRnbc7wkJHhke3GRbN+/zbYCAIBYEJMhMTc3V+6++25ZtGiRLFy4UE4++WQ577zzZMWKFfaMhubPny8XX3yxXHnllbJ48WKZNm2aKcuXL7dnoDlZKVly3FEDTT1/C0vhAAAQS2IyJJ5zzjly1llnSf/+/WXAgAFy1113SUZGhnz6afNz5+677z4544wz5Oc//7kMHjxYfvvb38qYMWPkwQcftGegJWNzA0vhFGxmXiIAALEk5uck+nw+mT17tpSVlZlh5+Z88skncsopp9i9gNNPP920H0xVVZWUlJQ0KPFmfO5ks125fYnU+GpMHQAARL+YDYnLli0zvYcpKSly7bXXypw5c2TIkMBdQhrbvn27dO/e3e4F6L62H8ysWbMkOzu7vvTu3dseiR8DjhooGanZUllTIct3LrWtAAAg2sVsSBw4cKAsWbJEFixYINddd51cdtllsnLlSns0NGbMmCHFxcX1ZfPm+LuPsSfBIyN7jTV1btEHAEDsiNmQmJycLP369ZOxY8eaHr+RI0eauYfNycnJkR07dti9AN3X9oPRXkr3Cmq3xKNxvSaabWFRvtkCAIDoF/NzEl11dXVmDmFzdK7iO++8Y/cC5s2b1+IcRjSUlztREpyvor1fyu7yXbYVAABEs5gMiToM/OGHH8qGDRvM3ETdf//992X69Onm+KWXXmraXDfddJO88cYbcs8998jq1atl5syZZumcG264wZ6Bg+mU2kn6dOln6vmbGXIGACAWxGRI3LlzpwmCOi9x6tSpUlBQIG+++aaceuqp5vimTZtk27YDiz9PnjxZnnvuOXn00UfNsPRLL70kc+fOlWHDhtkzcCjjegeGnAu2sBQOAACxIGHIkCF+h7hFe9Lw9egSOHqVs17EEm/zE5fvWCr//e/rJS25g8y+5FVJ9CTaIwAARLZ4/vx26V3nEhISGpS4mZOI8BrcdaikOwGxorpMVu8K7VXkAACg7RESERJej1dG9Bpn6guK5pstAACIXoREhMy4XoFb9BUWLTBbAAAQvQiJCJnxuYElgzZ8tV72VOwxdQAAEJ0IiQiZLulHSe/Ox5p6QRFXOQMAEM0IiQipMb3Gm+3CrQw5AwAQzQiJCCl3yHlp0UKp89eZOgAAiD6ERITU0O7DJTUpXUqrSmTNbtbcBAAgWhESEVJJniQZ1mO0qbMUDgAA0YuQiJAbl8tSOAAARLuIC4mbN2+WoqIiuyeSn58vN998s7mvMqLDhNzJZvvF7rVSUlVi6gAAILpEXEi85JJL5L333jP17du3y6mnnmqC4i9/+Uu54447TDsiW7eM7tKz49Hi99fJwi30JgIAEI0iLiQuX75cxo8PLKPywgsvyLBhw2T+/Pny7LPPylNPPWXaEflG26VwCoo+MVsAABBdIi4k1tTUSEpKiqm//fbbcu6555r6oEGDZNu2baaOyDehd2ApnCVbCsTv95s6AACIHhEXEocOHSoPP/yw/Oc//5F58+bJGWecYdq3bt0qXbp0MXVEvuHdR0lyYoqUVOyT9XvW2VYAABAtIi4k/u53v5NHHnlEpkyZIhdffLGMHDnStP/rX/+qH4ZG5Ev2JsuQnMDfXT5L4QAAEHUiLiRqONy9e7cpTzzxhG0Vueaaa0wPI6LHOHv3lYUshQMAQNSJuJBYUVEhVVVV0qlTJ7O/ceNGuffee2XNmjXSrVs304boMD53otmu37lKSqv3mzoAAIgOERcSzzvvPHn66adNfd++fTJhwgS55557ZNq0afLQQw+ZdkSHXlm50j2rl9T5fVK4dZFtBQAA0SDiQmJhYaF885vfNPWXXnpJunfvbnoTNTjef//9ph3RY3RuntkyLxEAgOjiqa2tFZ/PV1/aW3l5uWRmZpr6W2+9Jd/61rfE4/HIxIkTTVhEdMnrFRhyZikcAAAiV3AW1GyoxZOYmCher7e+tLd+/frJ3Llzze353nzzTTnttNNM+86dOyUrK8vUET1G9xgrSd5k2Vu2Wzbs/cK2AgCASBKcBTUbaom44ebbbrtNbrnlFjnmmGPMkjeTJgWukNVexdGjR5s6okdKYqoM6j7c1PO3fGq2AAAg8kVcSLzgggtk06ZNsnDhQtOT6Jo6dar86U9/snuIJuPsVc4LiwiJAABEi4gLiSonJ8f0GupdVoqKikyb9irqrfkQfdylcNbsWC4VNeWmDgAAIlvEhcS6ujq54447JDs7W/r06WNKx44d5be//a05hujTO7uPdMnoJr66Wlm8jaVwAACIBhEXEn/5y1/Kgw8+KHfffbcsXrzYlP/5n/+RBx54QH7961/bsxBNEhISZEzuBFPPL/rEbAEAQGSLuJD4t7/9TR5//HG57rrrZMSIEab86Ec/kscee0yeeuopexaizbhegZBYWLSApXAAAIgCERcS9+zZ0+zcQ23TY4hOY3vmidfjla9Kd0pRyWbbCgAAIlXEhcSRI0ea4ebGtE17FRGd0pLSZUC3YabOkDMAAJEv4kLi73//e3niiSdkyJAhcuWVV5qidR1q/sMf/mDPQjQaa+clshQOAACRL+JC4oknnihr166V888/X/bt22eK3ppvxYoV8ve//92ehWg0ITewMPqq7UulqrbS1AEAQGRKGDJkiF8vJHDL6tWr7aHI8tlnn8mYMWMi4v7SLSkpKTFL9xQXF3MLwWbo+2v689OkuHyP3H7a72W8DY0AALQnPr8D137oaiTBJeJ6EhG7WAoHAIDoQUhEm8qzd18pLMo3WwAAEJkIiWhTY3rmiSfBKztKtshWpwAAgMgUMXMS9eKUg9ELWD744APmJMaAm1+9VtbtXCFXT7xJpg25wLYCANA++PyO8DmJ+pdzsKL3cL700kvt2Yhm49ylcLawFA4AAJEqaq5ujgb8S6R11u5eIz/511WSnJgiL0x/XZK8SfYIAABtj89vrm5GhOjXpb9kpmZLdW2VLN2xxLYCAIBIQkhEm/MkeGRUbp6pF3D3FQAAIhIhEe0ir1dgIe1FhEQAACISIRHtYlyvCZKQ4JGt+zbJztIdthUAAEQKQiLaRXZqtvQ9qr+pF3CVMwAAEScmQ+KsWbMkLy9PMjMzpVu3bjJt2jRZs2aNPdq8p556qslVPampqfYowmFsr8BSOMxLBAAg8sRkSNRFt6+//nr59NNPZd68eVJTUyOnnXaalJWV2TOap5e9b9u2rb5s3LjRHkE4jM8NzEtctrVQaupqTB0AAESGmAyJb7zxhlx++eUydOhQGTlypOkl3LRpkyxatMie0TztPczJyakv3bt3t0cQDgOPGiwdUjKlsqZcVu5cblsBAEAkiIs5ibo4purcubPZtqS0tNTc2aV3795y3nnnyYoVK+wRhIPX45URvcaaOkPOAABElpgPiXV1dXLzzTfL8ccfL8OGDbOtTQ0cOFCeeOIJeeWVV+SZZ54xj5s8ebIUFRXZM5qqqqoyq7QHFxwelsIBACAyxXxI1LmJy5cvl9mzZ9uW5k2aNMncG3rUqFFy4oknyj//+U/p2rWrPPLII/aMpvQCmeD7S2sPJA5Pnr2P86Y9X8ieiq9MHQAAtL+YDok33HCDvPrqq/Lee+9Jbm6ubW2dpKQkGT16tKxfv962NDVjxgwzlO2WzZs32yNorc5pXeTozseaOkPOAABEjpgMiX6/3wTEOXPmyLvvvit9+/a1R1rP5/PJsmXLpEePHralqZSUFHNFdHDB4RubO9Fs8wmJAABEjJgMiTrErPMKn3vuObNW4vbt202pqKiwZ4gZWtaeQNcdd9whb731lnzxxRdSWFgo3/ve98wSOFdddZU9A+HiLoWzdOtC8dX5TB0AALSvmAyJDz30kBn+nTJliukJdMvzzz9vzxCzJI6uhejau3evXH311TJ48GA566yzzEUo8+fPlyFDhtgzEC5Dug2TtKR0Ka8qlTW7V9lWAADQnhKcEOTX4Vm3rF692h7C4dJgqRewaEBl6PnwzHxnhhRs/EguGHWpXDHmatsKAED48fktMmjQoAZ3ndMS81c3Izrk2XmJhUULzBYAALQvQiIigjsv8cvda2Vf5T5TBwAA7YeQiIjQtUM36dWpj/idr4X0JgIA0O4IiYgYY+zC2gu3shQOAADtjZCIiDHe3qJvcVGB1PnrTB0AALQPQiIixvDuIyUlMVVKK4tl3VdrbSsAAGgPhEREjCRvkgztMcrUC4o+MVsAANA+CImIKOPsUjhcvAIAQPsiJCKiuEvhfL5rteyv3m/qAACg7RESEVF6ZPaUnOxcqfP7ZNGWfNsKAADaGiEREWd0rzyzLdjCUjgAALQXQiIizoTcyWa7uCjf3E8cAAC0PUIiIs7IHqMlyZssxeV75Iu9620rAABoS57a2lrx+Xz1BWhvyd4UGZwz0tTzixhyBgAg3IKzoGZDLZ7ExETxer31BYgE4+wt+hYREgEACLvgLKjZUAvDzYhI7lI4a3eukPKaMlMHAABth5CIiNQ7+2jpmpkjvjqfFG5daFsBAEBbISQiYo3qNd5sCxhyBgCgzRESEbEm9A4MOS/ewlI4AAC0NUIiItaonDHi9STKV6U7ZVPxBtsKAADaAiERESstKV0Gdh9m6iyFAwBA2yIkIqKNy51otouKFpgtAABoG4RERLQJdimcVduXSmVthakDAIDwIyQiovXp2Fc6d+gqtXU1smRboW0FAADhRkhEREtISJBRuXmmnl/0idkCAIDwIyQi4uX1cpfCKTBbAAAQfoRERLyxPceJJ8ErO0u2ypbiItsKAADCiZCIiNchOUP6dxts6vlbGHIGAKAtEBIRFdylcBayXiIAAG2CkIioMN4uhbNy+2dS7asydQAAED6ERESF4zr3l+y0TlJdWyVLty+xrQAAIFwIiYgKDZfCYcgZAIBwIyQiaozrFZiXWMgt+gAACDtCIqLGuF4TJCHBI9uKN8uO/dttKwAACAdCIqJGVkqWHHfUQFNfsGW+2QIAgPAgJCKqjMkdb7YLGXIGACCsCImIKhNyjzfbFdsWS01djakDAIDQIyQiqgw4aqBkpGZLZU2FLN+x1LYCAIBQIyQiqngSPDKy11hTL2ApHAAAwoaQiKjjLoWziHmJAACEDSERUScvd6IkOF9Fe7+U3eW7bCsAAAglQiKiTqfUTtKnSz9TZ8gZAIDwICQiKo3NnWC2BVsIiQAAhAMhEVFpfO4ks122ZZHU1tWaOgAACB1CIqLSoK5DJD25g5RXl8nqXSttKwAACJWYDImzZs2SvLw8yczMlG7dusm0adNkzZo19mjLXnzxRRk0aJCkpqbK8OHD5bXXXrNHEGkSPYky3C6Fk1/0idkCAIDQicmQ+MEHH8j1118vn376qcybN09qamrktNNOk7KyMntGU/Pnz5eLL75YrrzySlm8eLEJllqWL19uz0CkyWMpHAAAwiZhyJAhfoe4ZfXq1fZQ7Ni1a5fpUdTweMIJJ9jWhi666CITIl999VXbIjJx4kQZNWqUPPzww7bl4EpKSiQ7O1uKi4slKyvLtiJcvirfLZfOPt8sh/P3S14xVz0DAHC4+PwWM5KakOB8ogaVuJiTqH/pqnPnzmbbnE8++UROOeUUuxdw+umnm/aWVFVVmTdWcEHb6ZJ+lPTufKw4/7xhKRwAAEIs5kNiXV2d3HzzzXL88cfLsGHDbGtT27dvl+7du9u9AN3X9pbo3Ef9l4dbevfubY+grYzpNd5sWQoHAIDQivmQqHMTdV7h7NmzbUvozJgxw/RSumXz5s32CNqK3n1FLS1aKHX+OlMHAABHLqZD4g033GDmGL733nuSm5trW5uXk5MjO3bssHsBuq/tLUlJSTFzF4IL2taw7iMkNSlNSqtKZO3uQ1/BDgAAWicmQ6JegKMBcc6cOfLuu+9K37597ZGWTZo0Sd555x27F6BXRms7IleSJ0mG9hht6guKPjZbAABw5GIyJOoQ8zPPPCPPPfecWStR5xVqqaiosGeIXHrppWa42HXTTTfJG2+8Iffcc4+5wnvmzJmycOFCEzYR2dwh58KifLMFAABHLiZD4kMPPWTmCE6ZMkV69OhRX55//nl7hsimTZtk27Ztdk9k8uTJJlQ++uijMnLkSHnppZdk7ty5B73YBZFhfK9Ab+/nu9dISRVXmAMAEApxsU5iW2GdpfZz1cuXyLbizfKzKbfJyceealsBADg0Pr/jeJ1ExL4xuRPMdiFL4QAAEBKERMSE8XZe4pKiAtMjDgAAjgwhETFhRM5oSU5MkeKKvfL5nnW2FQAAfF2ERMSEZG+yDMkZaer5RS3fShEAALQOIRExY5wdcl7IfZwBADhintraWvH5fPUFiFbjcwNL4azbuUrKqktNHQAAHFpwFtRsqMWTmJgoXq+3vgDRqldWrnTL6il1fp8s2rrQtgIAgEMJzoKaDbUw3IyYMiZ3vNkWbGFeIgAAR4KQiJiS14ulcAAACAVCImLKqB5jJNGTJHvKdsnGfV/aVgAAcLgIiYgpqYlpMjhnhKkvYCkcAAC+NkIiYs5Y9xZ9LIUDAMDXRkhEzJlgl8JZs2O5VNSUmzoAADg8hETEnN7ZfaRLRjfx1dXKku2FthUAABwOQiJiTkJCgozuFVgKZ8Fm5iUCAPB1EBIRk/LsLfqWbMk3WwAAcHgIiYhJY3qOE6/HK7v2b5fNxZtsKwAAaC1CImJSelIHGdBtmKnnsxQOAACHjZCImHVgKZwFZgsAAFqPkIiYNd7OS1y1/TOp9lWZOgAAaB1CImLWsZ36SXZ6Z6nxVctn2xbbVgAA0BqERMQssxROrl0Kp2i+2QIAgNYhJCKmjbd3X1m8pcBsAQBA6xASEdPG9MwTT4JXthcXybb9W20rAAA4FEIiYlpmcqYc13WQqbMUDgAArUdIRMwbV78UzqdmCwAADo2QiJiXZ+clrti2RGp8NaYOAAAOjpCImNe/ywDJTM2WqtpKWbbjM9sKAAAOhpCImOdJ8Mio3DxTz9/CvEQAAFqDkIi4MK5n4O4rhdyiDwCAViEkIi7k5U6UBOdry96Nsqtsp20FAAAtISQiLmSnZkvfowaYOkvhAABwaIRExI2xdimcApbCAQDgkAiJiBvuLfqWby2U2rpaUwcAAM0jJCJuDDxqsHRIyZSKmnJZuXO5bQUAAM0hJCJueD1eGdFrrKkzLxEAgIMjJCKu5PUKLIWziHmJAAAcFCERcUWXwlGb9nwheyq+MnUAANAUIRFxpXNaFzm687GmXsDC2gAAtIiQiLgz1vYmFnCLPgAAWkRIRNxxl8JZumWR+Op8pg4AABoiJCLuDOk2TNKS0qWsar+s2b3KtgIAgGCERMSdRE+iDOs5xtRZCgcAgOYREhGX3KucF23h4hUAAJoTsyHxww8/lHPOOUd69uwpCQkJMnfuXHukee+//745r3HZvn27PQOxxF0v8ctda6W4stjUAQDAATEbEsvKymTkyJHy5z//2ba0zpo1a2Tbtm31pVu3bvYIYkm3jO7Sq1Mf8TtfC+lNBACgiZgNiWeeeabceeedcv7559uW1tFQmJOTU188HkbkY9WYXhPMlqVwAABoigTUyKhRo6RHjx5y6qmnyscff2xbm1dVVSUlJSUNCqKHuxTOkqICqfPXmToAAAggJFoaDB9++GF5+eWXTendu7dMmTJFCgsL7RlNzZo1S7Kzs+uLPgbRY3j3kZKcmCL7K4tl/VfrbCsAAFCERGvgwIHywx/+UMaOHSuTJ0+WJ554wmz/9Kc/2TOamjFjhhQXF9eXzZs32yOIBkneJBnaY5Sp5xfNN1sAABBASDyI8ePHy/r16+1eUykpKZKVldWgILrk2SHnhdzHGQCABgiJB7FkyRIzDN3e5q/dKbP+tVQef2+tzF240eyv214ixeXV4vf77Vn4Otx5iZ/vWi37q/ebOgAAEEkYMmSIkzP8JmxoWb16tT0U3UpLS+t7AUePHi1//OMf5aSTTpLOnTvL0UcfbYaKt2zZIk8//bQ5595775W+ffvK0KFDpbKyUh5//HF54IEH5K233pKpU6eacw5FL1zRuYk69BzKXsW/vLVK/v7+WrvXUKLXI52zUqVLZqoc5WyP0q1TumalSLesNLPt6mwzUhLNuo9o6sqXL5btxUVy68m/kROPOdm2AgDiRbg+v6PJoEGDGqwTbcqAAQNMV5QbEteti40J/Lo4tobCxi677DJ56qmn5PLLL5cNGzaY89Tvf/97efTRR01wTE9PlxEjRshtt93W7HO0JFxvsvzPd0n++t2ya3+F7N5fJV+VVJpSWlFtzzi05ERvIExqkLRhspsJlilOPc0JlIFQme6EyXjz4Kd/lNdXzpGTBpwpt3zjF7YVABAvCIki/fv3rw+HKhASBw3RdHggJK6NjZ7E9tDWb7KqWp/sdsLiLic47tJtSUWg7oTJr0qqzLE9TimvqrGPOLTU5CQnTKbYnskU6eoESA2VXTMDPZIaJjVUpiV77SOin96/+Tdv3SrZ6Z3l2Yvm1v8HAgCID4REJyQOONCT6PwfITHUIvVNVlHthEknOO7U4Li/0tlW2nBZ4Wyr5CunbY+zraxufZhMT9EwGeiV7GLDpBskzRC3CZmpkpIY+WGy2lclFz5zltT4quWBaU/KsZ372SMAgHhASCQkhl20v8nKqmpNb2QgTFYEeif3B4Klhkod4taeyepan33EoWWkJZshbjPMrSFSw6T2RppeyUAPpfZaJnnb9xqqGW/+RJZuWSjfH/dD+e6I79lWAEA8ICQSEsMuXG8y3/aV4tu5WhKS0kSckpCc7tTTg+ra7mwTk+0jwkffI6U2TO5ywuROu92lQdIOcwd6Jiul1te6u5jo+zErPUU6uUPcJlC6PZKBMKm9kp07JJsLdcLh5RXPyxMLHpTBOSPlD2c9aFsBAPGAkEhIDLtwvckq3/+T1HzwV7t3EHqf6aRkJzQ6YTEpxQmQqSKJGiC1rqEyNRAoTbB0jmmwNPtO2KyvB4VOZ9sgkCamBBJdK+h7qaSixgxta4+khkm96EbDpAZMHebe6+zvdYKlr651y/jot87u4F58E+iNPCoj1cyTdIe5NVxqmPR4WvdzujYXb5JrX54uXo9Xnp/+mqTpnxkAEBcIiYTEsAvXm6x6yQtS89kckZoqkdoK8VdXmrq/pto56JS2uu+wvnHcEJrsBEYNnYkaNp2tEzRNkDRBU7fa3iGwrQ+aep5t0xDq1P3eFCmuTZTdlR7ZWS52zqTtmXTCpfZK6jD3vtJKfZu2itcJiNlOeHSHuDVMBuZL6tJAgTDZzQmT2elJgf8YHPrev/zF78ju0h0yY+qd8o0+J5p2AEDsIyQSEsOuvd5k/lonKNaUO6FRA6STtHRr98XZN1vdrw60m+NOPXCebp0AZh7nhM/6EKrP6bTX1Ij4Wj8H8YjoGzPRCW71ITQlEEK1FzQxRao8KVLpT5Jyf6Ls9yXJfidc7qvxyr5qr+yu8siuigT5ytlW+p1znfMqE1KlWpKl2u8USZFap26+h6VD1x1NmNQgmSp7El6WHZXzJS2xk6QndRbnPw97emDbZL++Tf9fmwPbwH9gulJ94LzAIWcv0CwePc+0B7bu4/X/zWNdDapBO8aB/eDHND2rwZPUa/3zNTyvwc8XpMFjGp3T8DmafzzCL/DX4vxtOBWt6v+7f1cH6oGtfpl2Wzdf9twGz9HMuQ2ew/zPfjU612xte6Cmm8DWbXe35lB9vfn25toCNef/3Xb3PP2y9Qbt9jFum9m6X3qO2xZ0vn6Zs0xd//vW/9YD7abuHguqu+26VYHHBJ1rjgXX9Xig3tLzmOO2Tel5+lXfbh9jvux52ur8nznPfY54RUgkJIZdzL7JfDUmTAZCaJkNjxo63UAaHELt8foQGgif7r7Uaj3QE2p6Q7Un1Fdrv1H4VTm/DCvE6wRNrxMmEwNFkqTCCZWrnTw6r4fzMwJAnNIQaQKCfgVv6+saLvUUtx4434RaW9ev4NAZCK5N25p9To2zunWKhlenYs9xv4dHTu1/ppze/2zzPKFCSCQkhh1vsq+pzhcIoBoinRB6IJAe6BU1WxM09bgGzUBboN0GUacEttoeFEJrW7+0z9Jkj+y18xkbj277A81NBJ93sBHxFs8Lel5/0I7zn6PUOvva5nNKcF1Lg7rfY7Z1zi9QneLp063uO798A+fa484fQs8JtOlj7Xn12+D6gbbA4wP7+jj3mLbXOd9bJzxo3e98P9OuW+d7mePuMfd8pwQ0fEG9Xo8kJXqcbYLp5dUr3hOd/USPN1B32vW4HtN6sjnuHPMEHlff5pSkROdcr/u4wDH9CgXzCzTKmN/v+mW3wW36t9Nce/020BjYBrc7W9sSdK7TZv7nfJnjtrXRuYG6U+w5Zj/oOZqeH9jql2mvPzdQDxw3RwJfejzQcOBc9zznK/A/U2u+3T5Gue3uOYFjzp55nHvc77yvnXe6OVXPcfbsNKA6c35d4HGm3mjrnFdfr2/Tmn2Mfo/gc5yi38V9ft0P1PXYgXNj2XdGXyaXj77K7oUGn9+ExLDjTRah6pxfmjqMriGyPoQ6wdIJlyZwau+n6QXVcOm0+ZxQ6QRX7UGVulrxB9VN8dm2Oh2K1zata5seC9TdEjhPH++e5wRic44W5+cydSdW2V/48aTKCZcVTmCsFK9T157dJKd+oHe3yimBtmS772z9yaa9SgJTD7TNFNtenZAi1U67Ti+ocdrdKQb6Oy8lMVFSkrV4JDVJt16zKHxqklNsPS05yaztqfV0PWaPpzmPCxSnbs9P133zPB4TTqMxPCJ2ueFRA6P5fDfb4PCqsdYes8cPhE37WHtMzzTHnOxpHmXOb3g80BZ43kBdjzl1s7XP53wd6viBeuDPoM/utqk65/dl387HynGd+5v9UOHzm5AYdrzJ8LVpYAwOlyZUarFBtX5f6wcCa3C7mRZg6hpK3YCrQVaDqLbb42a/6fMGgqw+5kDdfa4DYVcf52z9+lhts+eYY+6+82cxdS3OL3Yt7ag6KIxW2jBaZeoaQG2xYdQEUxs6A8E0EEZ1bmsgtKbUh9Ea3Trn1Tjn1HlSJDnJCZhOeNTiBs9AyLThUo9p3YROPdawbkKp3XdDqbvf3uuIArGOz29CYtjxJgOa4fxeaRw+TV3np9ZPD3B7cm2Pr9vzqz27Zuse16v6dRs0rUCfpzYwvUAvuDJX/dc6z9/G3DAaCKBatEdUe0Y1bCY5xxKdrfaGBoKoFu31DATVwMVWGkr13EDPqHM8QS+6ShafE0K9SWnicUpKSooTNt1wGQiWug2EykDwdNs1eOr92DPTkiUrLUkyUxOdbbJkpCZJciLBE3Dx+U1IDDveZECE0N5MEzQ1OGrQDA6hztYG1AMhVLd6rnueG0I1gOpxDaPu87lhtMZpc0obq/YnOKFSe0Y1gAYCaaCXU0Npcn0YrarfT5Fyf4qzTbVbLWni86ZJYmqmeNMyJSk1Q1LSsyQjPcUJkkmS5ZRMJ1RqmAwETCdoarsGTQ2ZTvA83LVIgUjG5zchMex4kwFxxoTR4MDpBtDgUOr2hAaHUnu8/rFuKHXDqIbQQCDVMJrQRmG03PSGJkqZEzDL/UlS7oTMMidYHtgGigbOukRd+7SDSHKGeJ2wmZiW4YTOLEl1wmZqRpakpWdKVodkJ1w6xQmXgZ7MQODUXk7zQQRECD6/CYlhx5sMQFjYMCq1GhptGLVBs0HorN93zjFD8M5WL9Cq0ouzdFtqVgmoc/brqsolobpSEjSE2osCQkmvsi8XrxMovU7A1PVNtThh0wmcuoZpjTdNfE7QrDNBM008yZlO2AwEzmQnYGrPZkqHbOmQ0VHSs7Ils0OGuX2nBk7maCLU+PwmJIYdbzIAUUd/92uPpgmS+81W10M1pWq/06bbwL44IbOmcr/UVui2VOoq9ZgTNp0wmuCE00QnmCb6akUXPAo1nw2d5ZLoBM8kqdIr2T2pUpuYJnVa9K5OyR3Ek6JBU3s1A2EzuUOWpDlhMz3DKVkdJcMJnXr8cG4zitjH5zchMex4kwGIe/pZUt+D6YZM7cHU3stSqS4vkcqyEqlytho2tWi7BlENm56aCvH6KiTZVy3JdTWS6g/PRUi67mhlgtcJmslSo8UbCJt+vcOThs3UDiZMJrk9m07QTHMCZ3J6lgmiCVr0NqMpmeauUCZ0Imrx+U1IDDveZAAQYjrUbkJnmfgq90vZ/mIpd0pF2T4nbO43obO2UsNmyYEeT6d4aysksbZcknxVkuLXUiPpTjRMTwjPkky1CR4naCaJzwmLdUmp4tc5mymBoJmY5gRNLU7Y9Dj7GkI1XLpBU8xWg6e26f3tncfqBzXaDJ/fhMSw400GAJGrssYnpeVVsr+0WMpK9kl5aSBoVpYVO2FzvxM2AyUw9F4qCSZslkuir9IpFU7IrDalQ4ITOJ3SQXySGobQae5qlJQkdcmpTnhME48Jm4GhdA2RgZDpbrMCwdINmxo0TeDUNt06odTjtc+MlvD5TUgMO95kABCb9POxoton+ytrpLiiWvZX1DqlRvaXlUt5WYlUOEFTh9E1bPoqS0yvZ2CYvVQ8NeWSUqcLD1U6AbMqEDRN3Qmd9YGz1oTOcKws5HcCp8cJnJKS5oTGwFXpZmtCphs8bbDUUGnaNWzarTluezljdFidz+8WQmK/AQP8ngQvITEEeJMBAJpTVesETCdYljgBs0TDpVPc+oH9KqkoL5UqJ2zq8LlPLw6q2i+e2jInWFY6YbLKBE3dZjjbNHECZ4ITNk3vpvZyVjlbJ2xq8HQCZ3JC6C8gEq/XCY9OUHQCp5mLqcWESHcb6L0M1N2Q6ey7PZ0ROqzO53cLIbFPnz7+lNR0QmII8CYDAIRaja+uSajUeqAtUPZXBo6V2h7OUqdUVpSLzwmZqU6QTPVrqHSKU3cDZ7pZVl2DpQZNDZza5gRQ29tpejg1dEptWIbVTUB0AmdCSqqzTTOBMxA2g0OmGy5tsHTaPN0GiveofvZJQoPPb0Ji2PEmAwBEklonYJZWHujBdANmfbh0SmlVoE3rbsAsLa+RiuoaJxcEnkfX0tSbSaY4RUNnmt8JmLZns0NCIGxq+AwMpwdCqAbPjIRqyfI6YdOjQ+p6tXqNpPh9R7RMUtI3L5PUk39u90KDz2+Gm8OONxkAIFb46vxSdrCAWRko2qbB0g2ZZVoqq+sDZhPOgSTRu5IHgmaqEzh12Nz0dJqgqdsqyfRUSXZijXT0VgWCphM4tVQN+ZaMOeda+2Shwec3F66EHW8yAAB05SInYFY7AbM8OGDWSKkdFjdFQ6azbdCD6RQNmPr4llx28iC59pSBdi80+PxuIST2PfY4v+54vV697p6QeAR4kwEAcGS0w6q82ucEyWopLg8EStNraYfER/TpLCOP7mzPDg0+v1sIib2P7u38feiqTAmSlJIqn69ba0/H4eJNBgBA9OHzu/mQWH+XdL/zVVNVafcAAAAQz+pDoqrzh+d2RQAAAIgunrT0TEl3SlpahikAAABAg55EAAAAQBESAQAA0AQhEQAAAE0QEgEAANAEIREAAABNEBIBAADQBCERAAAATRASAQAA0AQhEQAAAE0QEgEAANBEwoBBQ/zi1/8Fyrq1q+0hHK7i4mLp2LGjbN68WbKysmwrAACIZCUlJdK7d2/Zt2+fZGdn29b40n/AIElISDDF+b9AnZAYOkVFReZNBgAAoo928uTm5tq9+EJIDLO6ujrZunWrZGZmBl7kEHL/lUMvZXjxOrcNXue2wevcNnid20Y4X2fNP/v375eePXuKxxOfM/EIiVFM/+PQLnAd0uaXUPjwOrcNXue2wevcNnid2wavc3g1FxK5cAUAAABNEBIBAADQhLfLUV1n2rrx4xtvsDVEGq/XK1OmTJHExETbgnDgdW4bvM5tg9e5bfA6tw1e5/B54IEHmww3MycRAAAgzjU7JzHR4yTzoAIAAID4EpwFNRtqcf4HAAAANERIBAAAQBOERAAAADRBSIwCf/7zn+WYY46R1NRUmTBhguTn59sjCJUPP/xQzjnnHLPavk7WnTt3rj2CUJo1a5bk5eWZuxJ169ZNpk2bJmvWrLFHESoPPfSQjBgxwiw4rGXSpEny+uuv26MIl7vvvtv8/rj55pttC0Jh5syZ5nUNLoMGDbJHEU6ExAj3/PPPy09/+lO5/fbbpbCwUEaOHCmnn3667Ny5056BUCgrKzOvrQZyhM8HH3wg119/vXz66acyb948qampkdNOO828/ggdvfesBpZFixbJwoUL5eSTT5bzzjtPVqxYYc9AqBUUFMgjjzxiwjlCb+jQobJt27b68tFHH9kjCKeEIUOG+N3lb7SsXs0SOJFEew615+XBBx80+3p/aL135Y033ij/7//9P9OG0NJ/pc6ZM8f0ciG8du3aZXoUNTyecMIJthXh0LlzZ/nf//1fufLKK20LQqW0tFTGjBkjf/nLX+TOO++UUaNGyb333muP4khpT6KO7ixZssS2IBy0d7Zxjy09iRGsurra9ASccsoptkXMjcd1/5NPPrEtQPTSe7AqDTAID5/PJ7Nnzza9tTrsjNDT3vGzzz67we9qhNa6devMdKBjjz1Wpk+fLps2bbJHEE6ExAi2e/du8wu+e/futiVA97dv3273gOikveI6d+v444+XYcOG2VaEyrJlyyQjI0NSUlLk2muvNb3jQ4YMsUcRKhrAdSqQzrdFeOiI2lNPPSVvvPGGmW/75Zdfyje/+U3Zv3+/PQPhQkgE0C6092X58uXmQxahN3DgQDM8t2DBArnuuuvksssuk5UrV9qjCIXNmzfLTTfdJM8++6y5sBDhceaZZ8p3vvMdM99T5+S/9tprsm/fPnnhhRfsGQgXQmIEO+qoo8x9Knfs2GFbAnQ/JyfH7gHR54YbbpBXX31V3nvvPXORBUIvOTlZ+vXrJ2PHjjW9XHph1n333WePIhR0OpBeRKjzEfVewlp0fu39999v6joShNDr2LGjDBgwQNavX29bEC6ExAimv+T1F/w777xjWwJDdLrP3CJEI704TgOiDn2+++670rdvX3sE4aa/O6qqquweQmHq1KlmWF97bN0ybtw4M2dO6/qPfISeXij0+eefS48ePWwLwoWQGOF0+ZvHHntM/va3v8mqVavMsJFOQL/iiivsGQgF/aXj/pJXOudF60yODi0dYn7mmWfkueeeM2sl6txaLRUVFfYMhMKMGTPM2p8bNmwwIUb333//fRNeEDr6Htb5tMGlQ4cO0qVLF+bZhtAtt9xiemj1/Tx//nw5//zzTQC/+OKL7RkIF0JihLvooovkD3/4g9x2221mWQUNLjp5t/HFLDgyupbc6NGjTVEazrWurztCRyed6xXNU6ZMMb0AbtH1QBE6OgR66aWXmnmJ2tula/i9+eabcuqpp9ozgOhRVFRkAqG+ny+88EITwnWt1a5du9ozEC6skwgAABDnWCcRAAAArUJIBAAAQBOERAAAADRBSAQAAEAThEQAAAA04amtrbVVAAAAIMBTVc0K/AAAAGjII35bAwCEhK4vNnfuXLsHANHJk5KSYqsAEP0uv/zyJgvCajnjjDPsGQCA1vAkJibaKgDEBg2E27Zta1D+8Y9/2KMAgNbwVFVVSU1NjbklHwDEAh0hycnJaVA6depkjmmvot5D+swzz5S0tDQ59thj5aWXXjLHXMuWLZOTTz7ZHNf7xF5zzTVSWlpqjwY88cQTMnToUPO99P7TN9xwgz0SsHv3bjn//PMlPT1d+vfvL//617/sEZG9e/fK9OnTzb1n9Xvo8SeffNIeBYDI4KmuqZbKqkopLy+Xuro62wwAsevXv/61fPvb35bPPvvMhLXvfve7smrVKnOsrKxMTj/9dBMqCwoK5MUXX5S33367QQjUkHn99deb8KiBUgNgv3797NGA3/zmN3LhhRfK0qVL5ayzzjLfZ8+ePeaYfv+VK1fK66+/br6vPt9RRx1ljgFApEjofXRvv9uLmOB8bdq0ydQBIBrpnMRnnnlGUlNTbUvAL37xC1O0J/Haa681wcw1ceJEGTNmjPzlL3+Rxx57TP77v/9bNm/eLB06dDDHX3vtNTnnnHNk69at0r17d+nVq5dcccUVcuedd5rjjen3+NWvfiW//e1vzb4Gz4yMDBMKdSj83HPPNaFQeyMBIBIMGjSofg63Wxospl3npycRQPQ76aSTZMmSJQ2KBkPXpEmTbC1A992eRN2OHDmyPiCq448/3oy0rFmzRnbu3GnC4tSpU+3R5o0YMcLWxDxXVlaWeay67rrrZPbs2TJq1Ci59dZbZf78+aYdACKJJzMjU7RkdMgwBQCinYYyHf4NLp07d7ZHj4zOIWyNpKQkWwvQf5W7U3p0PuTGjRvlJz/5SX3gvOWWW8wxAIgU3JYPQNz59NNPbS1A9wcPHmzqutW5ijpE7Pr444/F4/HIwIEDJTMzU4455hh555137NGvRy9aueyyy8zQ+L333iuPPvqoPQIAkYGQCCDm6KoN27dvb1D0amOXXoyi8wHXrl0rt99+u+Tn59dfmKIXmOh8Rg1wy5cvl/fee09uvPFG+f73v2/mI6qZM2fKPffcI/fff7+sW7dOCgsL5YEHHjDHWuO2226TV155RdavXy8rVqyQV199tT6kAkCkICQCiDlvvPGGWZYmuHzjG9+wRwNXHuucQJ03+PTTT5s1FIcMGWKO6ZI1b775prkSOS8vTy644AIzHPzggw+a40oDpPb+6YUuugzOf/3Xf5mw2FrJyckyY8YM8/1POOEE8Xq95ucBgEiS4PxiNFc3u2X16tX2EADEHp0bOGfOHJk2bZptAQAc8upmAAAAQBESAQAA0AQhEUBc0Wk1DDUDwKEREgEAANAEIREAAABNNAiJeiULAAAA4ktzGdCERPdSZwAAAMSnxnmQ4WYAAAA0QUgEAABAEx6GmQEAAOBysyEXrgAAAMS5xhlQ9+tDIgERAAAgfjUJikOHDvVrRe9CoKW5uiu4rhrvAwAAIDI01zvocuu6bbE+aNAgk/SaC4aNtyq4DgAAgMjnhj8VHAQbbxvUhw0b5uS+g4dDd6uC68FaagcAAEDbcENeY8HtwUGwpa0pGhK1oaVgGBz+mguCzbUBAACg/biBL1hwW3AgbGmbMHz4cCfnNR8MgwNgcN3VXBsAAADanxv4ggW3NRcMD2xF/j9/UYNrTbRZGwAAAABJRU5ErkJggg==)"
      ],
      "metadata": {
        "id": "gFe0jSywQQFO"
      }
    },
    {
      "cell_type": "markdown",
      "source": [
        "**Separate Validation Loss:**\n",
        "\n",
        "![image.png](data:image/png;base64,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)"
      ],
      "metadata": {
        "id": "KrkyfOTDQd36"
      }
    },
    {
      "cell_type": "markdown",
      "source": [
        "# GCN Graph Model\n",
        "\n",
        "The GNN model using GCN layers for non-logitudinal data."
      ],
      "metadata": {
        "id": "IgT53tpJ8Uc3"
      }
    },
    {
      "cell_type": "code",
      "source": [
        "# Declare data variables, loss function, and optimizer\n",
        "model_type = 'graph'\n",
        "gnn_layer = 'gcn'\n",
        "pooling_method = 'target'\n",
        "batch_size=250\n",
        "main_hidden_dim = 20\n",
        "lstm_hidden_dim = 20\n",
        "dropout_rate = 0.5\n",
        "learning_rate = 0.001\n",
        "ratio = 0.5\n",
        "gamma = 1\n",
        "alpha = 1\n",
        "beta = 1\n",
        "delta = 1\n",
        "\n",
        "fetch_data = DataFetch(model_type=model_type, featfile='featfile_G1.csv', gnn_layer=gnn_layer, alt_featfile='featfile_A2.csv')\n",
        "train_patient_list = fetch_data.train_patient_list\n",
        "validate_patient_list = fetch_data.validate_patient_list\n",
        "num_features_static = len(fetch_data.static_features)\n",
        "num_features_alt_static = len(fetch_data.alt_static_features)\n",
        "num_samples_train_dataset = len(train_patient_list)\n",
        "num_samples_valid_dataset = len(validate_patient_list)\n",
        "num_samples_train_minority_class = fetch_data.num_samples_train_minority_class\n",
        "num_samples_valid_minority_class = fetch_data.num_samples_valid_minority_class\n",
        "num_samples_train_majority_class = fetch_data.num_samples_train_majority_class\n",
        "num_samples_valid_majority_class = fetch_data.num_samples_valid_majority_class\n",
        "\n",
        "model = GNN(num_features_static, num_features_alt_static, main_hidden_dim, gnn_layer, pooling_method, dropout_rate, ratio)\n",
        "\n",
        "loss_func = WeightedBCELoss(num_samples_train_dataset, num_samples_train_minority_class, num_samples_train_majority_class)\n",
        "valid_loss_func = WeightedBCELoss(num_samples_valid_dataset, num_samples_valid_minority_class, num_samples_valid_majority_class)\n",
        "optimizer = torch.optim.Adam(model.parameters(), lr=learning_rate)\n",
        "\n",
        "train_dataset, train_loader = get_data_and_loader(train_patient_list, fetch_data, model_type, batch_size)\n",
        "validate_dataset, validate_loader = get_data_and_loader(validate_patient_list, fetch_data, model_type, batch_size)"
      ],
      "metadata": {
        "id": "SqG_-vD18TNl",
        "colab": {
          "base_uri": "https://localhost:8080/"
        },
        "outputId": "5623b821-2158-4baf-c375-93d77ff61d1a"
      },
      "execution_count": null,
      "outputs": [
        {
          "output_type": "stream",
          "name": "stdout",
          "text": [
            "Using GCN layers\n"
          ]
        }
      ]
    },
    {
      "cell_type": "markdown",
      "source": [
        "**Below is the training step used to generate checkpoint file 'gnn-gcn.pt'**\n",
        "<br> you don't need to re-run all other experiments, instead, you can directly refer the metrics/numbers in the paper"
      ],
      "metadata": {
        "id": "4yu0sQ8U-koe"
      }
    },
    {
      "cell_type": "code",
      "source": [
        "# compare you model with others\n",
        "# num_epoch = 100\n",
        "# num_batches_train = int(np.ceil(len(train_patient_list)/batch_size))\n",
        "# num_batches_validate = int(np.ceil(len(validate_patient_list)/batch_size))\n",
        "\n",
        "# start_time_train = time.time()\n",
        "# # model training loop: it is better to print the training/validation losses during the training\n",
        "# train_losses = []\n",
        "# valid_losses = []\n",
        "# separate_loss_terms = {'NN_train':[], 'target_train':[], 'family_train':[], 'lstm_train':[], 'NN_valid':[], 'target_valid':[], 'family_valid':[], 'lstm_valid':[]}\n",
        "\n",
        "# model_path = raw_data_dir + 'drive/MyDrive/CS598 DLH/Project/gnn-gcn.pt'\n",
        "# gcn_early_stopping = EarlyStopping(path=model_path)\n",
        "# for i in range(num_epoch):\n",
        "#   model.train()\n",
        "#   epoch_train_loss = []\n",
        "#   separate_loss_terms_epoch = {'NN_train':[], 'target_train':[], 'family_train':[], 'lstm_train':[], 'NN_valid':[], 'target_valid':[], 'family_valid':[], 'lstm_valid':[]}\n",
        "\n",
        "#   for train_batch in tqdm(train_loader, total=num_batches_train):\n",
        "#     x_static_node, x_static_graph, y, edge_index, edge_weight, batch, target_index = train_batch.patient_x_static, train_batch.x, train_batch.y.unsqueeze(1), train_batch.edge_index, train_batch.edge_attr, train_batch.batch, train_batch.target_index\n",
        "#     output, patient_output, family_output = model(x_static_node, x_static_graph, edge_index, edge_weight, batch, target_index)\n",
        "\n",
        "#     # combined loss that considers the additive effect of patient and family effects\n",
        "#     loss_term_NN = gamma * loss_func(output, y)\n",
        "#     loss_term_target = alpha * loss_func(patient_output, y)\n",
        "#     loss_term_family = beta * loss_func(family_output, y)\n",
        "\n",
        "#     separate_loss_terms_epoch['NN_train'].append(loss_term_NN.item())\n",
        "#     separate_loss_terms_epoch['target_train'].append(loss_term_target.item())\n",
        "#     separate_loss_terms_epoch['family_train'].append(loss_term_family.item())\n",
        "\n",
        "#     loss = loss_term_NN + loss_term_target + loss_term_family\n",
        "\n",
        "#     optimizer.zero_grad()\n",
        "#     loss.backward()\n",
        "#     optimizer.step()\n",
        "#     epoch_train_loss.append(loss.item())\n",
        "\n",
        "#   # eval on validset\n",
        "#   model.eval()\n",
        "#   epoch_valid_loss = []\n",
        "#   valid_output = np.array([])\n",
        "#   valid_y = np.array([])\n",
        "#   for valid_batch in tqdm(validate_loader, total=num_batches_validate):\n",
        "#     x_static_node, x_static_graph, y, edge_index, edge_weight, batch, target_index = valid_batch.patient_x_static, valid_batch.x, valid_batch.y.unsqueeze(1), valid_batch.edge_index, valid_batch.edge_attr, valid_batch.batch, valid_batch.target_index\n",
        "#     output, patient_output, family_output = model(x_static_node, x_static_graph, edge_index, edge_weight, batch, target_index)\n",
        "\n",
        "#     valid_output = np.concatenate((valid_output, output.reshape(-1).detach().cpu().numpy()))\n",
        "#     valid_y = np.concatenate((valid_y, y.reshape(-1).detach().cpu().numpy()))\n",
        "\n",
        "#     # combined loss that considers the additive effect of patient and family effects\n",
        "#     loss_term_NN = gamma * valid_loss_func(output, y)\n",
        "#     loss_term_target = alpha * valid_loss_func(patient_output, y)\n",
        "#     loss_term_family = beta * valid_loss_func(family_output, y)\n",
        "\n",
        "#     separate_loss_terms_epoch['NN_train'].append(loss_term_NN.item())\n",
        "#     separate_loss_terms_epoch['target_train'].append(loss_term_target.item())\n",
        "#     separate_loss_terms_epoch['family_train'].append(loss_term_family.item())\n",
        "\n",
        "#     loss = loss_term_NN + loss_term_target + loss_term_family\n",
        "#     epoch_valid_loss.append(loss.item())\n",
        "\n",
        "#   train_loss, valid_loss = np.mean(epoch_train_loss), np.mean(epoch_valid_loss)\n",
        "#   train_losses.append(train_loss)\n",
        "#   valid_losses.append(valid_loss)\n",
        "#   for term_name in separate_loss_terms:\n",
        "#     separate_loss_terms[term_name].append(np.mean(separate_loss_terms_epoch[term_name]))\n",
        "#   print(\"epoch {}\\ttrain loss : {}\\tvalidate loss : {}\".format(i, train_loss, valid_loss))\n",
        "#   gcn_early_stopping(np.mean(epoch_valid_loss), model)\n",
        "#   if gcn_early_stopping.early_stop:\n",
        "#     print('Early Stopping')\n",
        "#     break\n",
        "\n",
        "# fpr, tpr, thresholds = metrics.roc_curve(valid_y, valid_output)\n",
        "# gmeans = np.sqrt(tpr * (1-fpr))\n",
        "# ix = np.argmax(gmeans)\n",
        "# threshold = thresholds[ix]\n",
        "\n",
        "# plot_losses(train_losses, valid_losses, 'gcn')\n",
        "# plot_separate_losses(separate_loss_terms['NN_train'], separate_loss_terms['target_train'], separate_loss_terms['family_train'], 'gcn', True)\n",
        "# plot_separate_losses(separate_loss_terms['NN_valid'], separate_loss_terms['target_valid'], separate_loss_terms['family_valid'], 'gcn', False)\n",
        "\n",
        "# end_time_train = time.time()\n",
        "\n",
        "# torch.save({\n",
        "#     'epoch': num_epoch,\n",
        "#     'model_state_dict': model.state_dict(),\n",
        "#     'optimizer_state_dict': optimizer.state_dict(),\n",
        "#     'threshold': threshold,\n",
        "#     'start_time': start_time_train,\n",
        "#     'end_time': end_time_train\n",
        "#     }, model_path)\n",
        "\n",
        "# you don't need to re-run all other experiments, instead, you can directly refer the metrics/numbers in the paper"
      ],
      "metadata": {
        "id": "rVrPIUFO8niF",
        "colab": {
          "base_uri": "https://localhost:8080/",
          "height": 609
        },
        "outputId": "ad4671b9-0812-45b3-8035-2db7e1e8dd28"
      },
      "execution_count": null,
      "outputs": [
        {
          "output_type": "stream",
          "name": "stderr",
          "text": [
            "\r  0%|          | 0/111 [00:00<?, ?it/s]/usr/lib/python3.10/multiprocessing/popen_fork.py:66: RuntimeWarning: os.fork() was called. os.fork() is incompatible with multithreaded code, and JAX is multithreaded, so this will likely lead to a deadlock.\n",
            "  self.pid = os.fork()\n",
            "100%|██████████| 111/111 [02:15<00:00,  1.32it/s]/usr/lib/python3.10/multiprocessing/popen_fork.py:66: RuntimeWarning: os.fork() was called. os.fork() is incompatible with multithreaded code, and JAX is multithreaded, so this will likely lead to a deadlock.\n",
            "  self.pid = os.fork()\n",
            "100%|██████████| 111/111 [02:15<00:00,  1.22s/it]\n",
            "100%|██████████| 16/16 [00:16<00:00,  1.06s/it]\n",
            "/usr/local/lib/python3.10/dist-packages/numpy/core/fromnumeric.py:3504: RuntimeWarning: Mean of empty slice.\n",
            "  return _methods._mean(a, axis=axis, dtype=dtype,\n",
            "/usr/local/lib/python3.10/dist-packages/numpy/core/_methods.py:129: RuntimeWarning: invalid value encountered in scalar divide\n",
            "  ret = ret.dtype.type(ret / rcount)\n"
          ]
        },
        {
          "output_type": "stream",
          "name": "stdout",
          "text": [
            "epoch 0\ttrain loss : 3.8721207519909284\tvalidate loss : 3.759416416287422\n"
          ]
        },
        {
          "output_type": "stream",
          "name": "stderr",
          "text": [
            "100%|██████████| 111/111 [02:05<00:00,  1.13s/it]\n",
            "100%|██████████| 16/16 [00:16<00:00,  1.05s/it]\n"
          ]
        },
        {
          "output_type": "stream",
          "name": "stdout",
          "text": [
            "epoch 1\ttrain loss : 3.853707350052155\tvalidate loss : 3.722113162279129\n",
            "EarlyStopping counter: 1 out of 5\n"
          ]
        },
        {
          "output_type": "stream",
          "name": "stderr",
          "text": [
            "100%|██████████| 111/111 [02:04<00:00,  1.12s/it]\n",
            "100%|██████████| 16/16 [00:16<00:00,  1.04s/it]\n"
          ]
        },
        {
          "output_type": "stream",
          "name": "stdout",
          "text": [
            "epoch 2\ttrain loss : 3.8099506631627813\tvalidate loss : 3.686437338590622\n",
            "EarlyStopping counter: 2 out of 5\n"
          ]
        },
        {
          "output_type": "stream",
          "name": "stderr",
          "text": [
            "100%|██████████| 111/111 [02:01<00:00,  1.10s/it]\n",
            "100%|██████████| 16/16 [00:17<00:00,  1.10s/it]\n"
          ]
        },
        {
          "output_type": "stream",
          "name": "stdout",
          "text": [
            "epoch 3\ttrain loss : 3.7877691092791856\tvalidate loss : 3.6865831464529037\n",
            "EarlyStopping counter: 3 out of 5\n"
          ]
        },
        {
          "output_type": "stream",
          "name": "stderr",
          "text": [
            "100%|██████████| 111/111 [02:03<00:00,  1.11s/it]\n",
            "100%|██████████| 16/16 [00:16<00:00,  1.05s/it]\n"
          ]
        },
        {
          "output_type": "stream",
          "name": "stdout",
          "text": [
            "epoch 4\ttrain loss : 3.7570300596254365\tvalidate loss : 3.6524819284677505\n",
            "EarlyStopping counter: 4 out of 5\n"
          ]
        },
        {
          "output_type": "stream",
          "name": "stderr",
          "text": [
            "100%|██████████| 111/111 [02:01<00:00,  1.10s/it]\n",
            "100%|██████████| 16/16 [00:17<00:00,  1.12s/it]\n"
          ]
        },
        {
          "output_type": "stream",
          "name": "stdout",
          "text": [
            "epoch 5\ttrain loss : 3.734771595344887\tvalidate loss : 3.686576634645462\n",
            "EarlyStopping counter: 5 out of 5\n",
            "Early Stopping\n"
          ]
        },
        {
          "output_type": "display_data",
          "data": {
            "text/plain": [
              "<Figure size 640x480 with 0 Axes>"
            ]
          },
          "metadata": {}
        }
      ]
    },
    {
      "cell_type": "markdown",
      "source": [
        "**Below is the testing step used to generate checkpoint file 'test-gnn-gcn.pt'**\n",
        "<br>you don't need to re-run all other experiments, instead, you can directly refer the metrics/numbers in the paper"
      ],
      "metadata": {
        "id": "8lg6uN94JfJw"
      }
    },
    {
      "cell_type": "code",
      "source": [
        "# you don't need to re-run all other experiments, instead, you can directly refer the metrics/numbers in the paper\n",
        "# metrics to evaluate my model\n",
        "# gdown.download('https://drive.google.com/uc?id=1-3ZZGCHYJbxOHWLE6SfEHSh2mfsblqW0')\n",
        "# gnn_gcn_checkpoint = torch.load('/content/gnn-gcn.pt')\n",
        "# gcn_model = GNN(num_features_static, num_features_alt_static, main_hidden_dim, 'gcn', pooling_method, dropout_rate, ratio)\n",
        "# gcn_model.load_state_dict(gnn_gcn_checkpoint['model_state_dict'])\n",
        "# gcn_model.eval()\n",
        "\n",
        "# gnn_gcn_threshold = gnn_gcn_checkpoint['threshold']\n",
        "# gnn_gcn_start_time = gnn_gcn_checkpoint['start_time']\n",
        "# gnn_gcn_end_time = gnn_gcn_checkpoint['end_time']\n",
        "\n",
        "# num_samples = 3\n",
        "# gnn_gcn_test_output = [np.array([]) for _ in range(num_samples)]\n",
        "# gnn_gcn_test_y = [np.array([]) for _ in range(num_samples)]\n",
        "# representations = pd.DataFrame()\n",
        "\n",
        "# test_patient_list = fetch_data.test_patient_list\n",
        "# num_batches_test = int(np.ceil(len(test_patient_list)/batch_size))\n",
        "# test_dataset, test_loader = get_data_and_loader(test_patient_list, fetch_data, model_type, batch_size, shuffle=False)\n",
        "\n",
        "# gcn_test_model_path = raw_data_dir + 'drive/MyDrive/CS598 DLH/Project/test-gnn-gcn.pt'\n",
        "# for m in gcn_model.modules():\n",
        "#   if m.__class__.__name__.startswith('Dropout'):\n",
        "#     m.train()\n",
        "\n",
        "# for sample in range(num_samples):\n",
        "#     for test_batch in tqdm(test_loader, total=num_batches_test):\n",
        "#         x_static_node, x_static_graph, y, edge_index, edge_weight, batch, target_index = test_batch.patient_x_static, test_batch.x, test_batch.y.unsqueeze(1), test_batch.edge_index, test_batch.edge_attr, test_batch.batch, test_batch.target_index\n",
        "#         output, patient_output, family_output = gcn_model(x_static_node, x_static_graph, edge_index, edge_weight, batch, target_index)\n",
        "#         gnn_gcn_test_output[sample] = np.concatenate((gnn_gcn_test_output[sample], output.reshape(-1).detach().cpu().numpy()))\n",
        "#         gnn_gcn_test_y[sample] = np.concatenate((gnn_gcn_test_y[sample], y.reshape(-1).detach().cpu().numpy()))\n",
        "\n",
        "# torch.save({\n",
        "#     'epoch': num_samples,\n",
        "#     'test_output': gnn_gcn_test_output,\n",
        "#     'test_y': gnn_gcn_test_y,\n",
        "#     'threshold': gnn_gcn_threshold,\n",
        "#     'start_time': gnn_gcn_start_time,\n",
        "#     'end_time': gnn_gcn_end_time\n",
        "# }, gcn_test_model_path)"
      ],
      "metadata": {
        "colab": {
          "base_uri": "https://localhost:8080/"
        },
        "id": "21JrVjfmeI-F",
        "outputId": "39c54483-3bd5-43c1-e7a0-a244c595dd27"
      },
      "execution_count": null,
      "outputs": [
        {
          "output_type": "stream",
          "name": "stderr",
          "text": [
            "Downloading...\n",
            "From: https://drive.google.com/uc?id=1-3ZZGCHYJbxOHWLE6SfEHSh2mfsblqW0\n",
            "To: /content/gnn-gcn.pt\n",
            "100%|██████████| 46.1k/46.1k [00:00<00:00, 24.9MB/s]\n"
          ]
        },
        {
          "output_type": "stream",
          "name": "stdout",
          "text": [
            "Using GCN layers\n"
          ]
        },
        {
          "output_type": "stream",
          "name": "stderr",
          "text": [
            "\r  0%|          | 0/32 [00:00<?, ?it/s]/usr/lib/python3.10/multiprocessing/popen_fork.py:66: RuntimeWarning: os.fork() was called. os.fork() is incompatible with multithreaded code, and JAX is multithreaded, so this will likely lead to a deadlock.\n",
            "  self.pid = os.fork()\n",
            "100%|██████████| 32/32 [00:37<00:00,  1.17it/s]/usr/lib/python3.10/multiprocessing/popen_fork.py:66: RuntimeWarning: os.fork() was called. os.fork() is incompatible with multithreaded code, and JAX is multithreaded, so this will likely lead to a deadlock.\n",
            "  self.pid = os.fork()\n",
            "100%|██████████| 32/32 [00:37<00:00,  1.18s/it]\n",
            "100%|██████████| 32/32 [00:38<00:00,  1.20s/it]\n",
            "100%|██████████| 32/32 [00:36<00:00,  1.13s/it]\n"
          ]
        }
      ]
    },
    {
      "cell_type": "code",
      "source": [
        "gdown.download('https://drive.google.com/uc?id=1ZwhjddpQ_4raLrN8598RhykWMbSLr5u4')\n",
        "gnn_gcn_test_checkpoint = torch.load('/content/test-gnn-gcn.pt')\n",
        "num_samples = gnn_gcn_test_checkpoint['epoch']\n",
        "gnn_gcn_test_output = gnn_gcn_test_checkpoint['test_output']\n",
        "gnn_gcn_test_y = gnn_gcn_test_checkpoint['test_y']\n",
        "gnn_gcn_threshold = gnn_gcn_checkpoint['threshold']\n",
        "gnn_gcn_start_time = gnn_gcn_checkpoint['start_time']\n",
        "gnn_gcn_end_time = gnn_gcn_checkpoint['end_time']\n",
        "\n",
        "# report standard error for uncertainty\n",
        "gnn_gcn_test_output_se = np.array(gnn_gcn_test_output).std(axis=0) / np.sqrt(num_samples)\n",
        "\n",
        "# take average over all samples to get expected value\n",
        "gnn_gcn_test_output = np.array(gnn_gcn_test_output).mean(axis=0)\n",
        "gnn_gcn_test_y = np.array(gnn_gcn_test_y).mean(axis=0)\n",
        "\n",
        "gnn_gcn_results = pd.DataFrame({'actual':gnn_gcn_test_y, 'pred_raw':gnn_gcn_test_output, 'pred_raw_se':gnn_gcn_test_output_se})\n",
        "gnn_gcn_results['pred_binary'] = (gnn_gcn_results['pred_raw']>gnn_gcn_threshold).astype(int)\n",
        "gnn_gcn_metric_results = calculate_metrics(gnn_gcn_results['actual'], gnn_gcn_results['pred_binary'], gnn_gcn_results['pred_raw'])\n",
        "print(gnn_gcn_metric_results)\n",
        "print(\"start time: {}\\tend time\".format(gnn_gcn_start_time, gnn_gcn_end_time))\n"
      ],
      "metadata": {
        "colab": {
          "base_uri": "https://localhost:8080/"
        },
        "id": "Dw4_Uaw-Akn2",
        "outputId": "a09ddbd2-9a12-4673-a6b9-71fd4a19a258"
      },
      "execution_count": null,
      "outputs": [
        {
          "output_type": "stream",
          "name": "stderr",
          "text": [
            "Downloading...\n",
            "From: https://drive.google.com/uc?id=1ZwhjddpQ_4raLrN8598RhykWMbSLr5u4\n",
            "To: /content/test-gnn-gcn.pt\n",
            "100%|██████████| 440k/440k [00:00<00:00, 5.87MB/s]"
          ]
        },
        {
          "output_type": "stream",
          "name": "stdout",
          "text": [
            "{'metric_auc_roc': 0.7582678910645871, 'metric_auc_prc': 0.2615118219594704, 'metric_f1': 0.33721922092692636, 'metric_recall': 0.6792668957617412, 'metric_mcc': 0.2565234631792809, 'metric_ts': 0.2028043775649795, 'metric_bss': -0.7508168178511943, 'true_negatives': 4936, 'false_positives': 2051, 'false_negatives': 280, 'true_positives': 593}\n",
            "start time: 1714321995.3606708\tend time\n"
          ]
        },
        {
          "output_type": "stream",
          "name": "stderr",
          "text": [
            "\n"
          ]
        }
      ]
    },
    {
      "cell_type": "markdown",
      "source": [
        "**Loss:**\n",
        "\n",
        "![image.png](data:image/png;base64,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)"
      ],
      "metadata": {
        "id": "kLnFptsZPNC-"
      }
    },
    {
      "cell_type": "markdown",
      "source": [
        "**Separate Loss:**\n",
        "\n",
        "![image.png](data:image/png;base64,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)"
      ],
      "metadata": {
        "id": "6Qf6fXDdPU1m"
      }
    },
    {
      "cell_type": "markdown",
      "source": [
        "**Separate Training Loss:**\n",
        "\n",
        "![image.png](data:image/png;base64,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\n",
        ")"
      ],
      "metadata": {
        "id": "5CWWTGy3Pcw1"
      }
    },
    {
      "cell_type": "markdown",
      "source": [
        "## Results\n",
        "Below is the chart displaying the results from various models after testing. The first chart illustrates several key performance metrics: the area under the ROC curve (AUC), Precision-Recall Curve (AUC PRC), F1 score, recall, and Matthew's Correlation Coefficient (MCC). These metrics help determine which models are the most effective."
      ],
      "metadata": {
        "id": "sDduDRdGKCmr"
      }
    },
    {
      "cell_type": "code",
      "source": [
        "X = ['auc_roc', 'auc_prc', 'f1', 'recall', 'mcc']\n",
        "X_axis = np.arange(len(X))\n",
        "plt.bar(X_axis-0.2, list(baseline_metric_results.values())[:5], 0.2, label='baseline')\n",
        "plt.bar(X_axis, list(gnn_graphconv_metric_results.values())[:5], 0.2, label='GNN GraphConv')\n",
        "plt.bar(X_axis+0.2, list(gnn_gcn_metric_results.values())[:5], 0.2, label='GNN GCN')\n",
        "plt.legend()\n",
        "plt.xticks(X_axis, X)\n",
        "plt.xlabel('Metric')\n",
        "plt.savefig(raw_data_dir+'drive/MyDrive/CS598 DLH/Project/metric-results.png')\n",
        "plt.show()\n",
        "plt.clf()"
      ],
      "metadata": {
        "colab": {
          "base_uri": "https://localhost:8080/",
          "height": 466
        },
        "id": "asuauRTNUwSk",
        "outputId": "7fde5866-956e-4a87-b986-9f4f673f6649"
      },
      "execution_count": null,
      "outputs": [
        {
          "output_type": "display_data",
          "data": {
            "text/plain": [
              "<Figure size 640x480 with 1 Axes>"
            ],
            "image/png": "[encoded data removed]"
          },
          "metadata": {}
        },
        {
          "output_type": "display_data",
          "data": {
            "text/plain": [
              "<Figure size 640x480 with 0 Axes>"
            ]
          },
          "metadata": {}
        }
      ]
    },
    {
      "cell_type": "markdown",
      "source": [
        "Below is a chart displaying the true negatives, false positives, false negatives, and true positives. This chart aids in understanding the outcomes of the models and facilitates a comparison of their performance."
      ],
      "metadata": {
        "id": "PggXV5zZMQpu"
      }
    },
    {
      "cell_type": "code",
      "source": [
        "X = ['True Negatives', 'False Positives', 'False Negatives', 'True Positives']\n",
        "X_axis = np.arange(len(X))\n",
        "plt.bar(X_axis-0.2, list(baseline_metric_results.values())[-4:], 0.2, label='baseline')\n",
        "plt.bar(X_axis, list(gnn_graphconv_metric_results.values())[-4:], 0.2, label='GNN GraphConv')\n",
        "plt.bar(X_axis+0.2, list(gnn_gcn_metric_results.values())[-4:], 0.2, label='GNN GCN')\n",
        "plt.legend()\n",
        "plt.xticks(X_axis, X)\n",
        "plt.savefig(raw_data_dir+'drive/MyDrive/CS598 DLH/Project/metric-results-2.png')\n",
        "plt.show()\n",
        "plt.clf()"
      ],
      "metadata": {
        "colab": {
          "base_uri": "https://localhost:8080/",
          "height": 447
        },
        "id": "es-zUPTdiQci",
        "outputId": "509d139f-3447-43c0-d97e-369f86851567"
      },
      "execution_count": null,
      "outputs": [
        {
          "output_type": "display_data",
          "data": {
            "text/plain": [
              "<Figure size 640x480 with 1 Axes>"
            ],
            "image/png": "[encoded data removed]"
          },
          "metadata": {}
        },
        {
          "output_type": "display_data",
          "data": {
            "text/plain": [
              "<Figure size 640x480 with 0 Axes>"
            ]
          },
          "metadata": {}
        }
      ]
    },
    {
      "cell_type": "markdown",
      "source": [
        "# Discussion\n",
        "\n",
        "This paper is reproducible, and by following along with the paper itself, the related GitHub repository, and the synthetic data generator, we were able to replicate the paper's results. The authors made great efforts in making their work easily reproducible. Providing a synthetic data generator greatly simplified the process of replicating their work. Additionally, they provided a table comparing the results of their models to the baseline models, which made it simple to see if our work matched theirs.\n",
        "\n",
        "The baseline model received a lower recall score than both of the graph-based models. In addition The area under the curve for the graph-based models (both graphconv and gcn layers) is slightly higher than in the baseline model. The F1 score for all three models is very similar, with the GraphConv graph model outperforming the other two models very slightly.\n",
        "\n",
        "We also saw that the GCN GNN model performed better than the Graphconv model. This aligns with the hypothese we made above. Although the metrics are very similar, the higher auc_roc score and F1 score, with a very similar recall, show that the GraphConv model is slightly better.\n",
        "\n",
        "Reproducing and training the models was straightforward since the dataset was readily provided by the authors. However, running the training code and comparing the metrics proved more challenging than anticipated due to the lengthy training times. To mitigate this, we decided to save the model checkpoints, allowing us to make changes to the model without the need for retraining.\n",
        "\n",
        "There are no real changes the authors should make to improve the reproducibility of their paper. Providing the synthetic data generator, as well as a Github repository containing their work made it incredibly easy to follow their methodology.\n"
      ],
      "metadata": {
        "id": "qH75TNU71eRH"
      }
    },
    {
      "cell_type": "code",
      "source": [
        "# no code is required for this section\n",
        "'''\n",
        "if you want to use an image outside this notebook for explanaition,\n",
        "you can read and plot it here like the Scope of Reproducibility\n",
        "'''"
      ],
      "metadata": {
        "id": "E2VDXo5F4Frm"
      },
      "execution_count": null,
      "outputs": []
    },
    {
      "cell_type": "markdown",
      "source": [
        "# References\n",
        "\n",
        "1. Sun, J, \"Characterizing personalized effects of family information on disease risk using graph representation learning.\", Proceedings of Machine Learning Research, 2023, 219:1–25, doi: https://doi.org/10.48550/arXiv.2304.05010\n",
        "\n"
      ],
      "metadata": {
        "id": "SHMI2chl9omn"
      }
    },
    {
      "cell_type": "markdown",
      "source": [],
      "metadata": {
        "id": "xmVuzQ724HbO"
      }
    }
  ]
}